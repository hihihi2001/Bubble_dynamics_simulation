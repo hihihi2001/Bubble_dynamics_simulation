{
 "cells": [
  {
   "cell_type": "markdown",
   "metadata": {
    "tags": []
   },
   "source": [
    "# Full mathematical model of a single bubble\n",
    "### About the model\n",
    "aaa\n",
    "### The differential equation\n",
    "A system of first degree ordinary differencial equations can be written as: <br>\n",
    "$\\frac{d}{dt}\\underline{x}=\\underline{f}(\\underline{x}, t)$ <br>\n",
    "> $t\\in\\mathbb{R}$ <br>\n",
    "> $\\dot{\\underline{x}},\\ \\underline{x}\\in\\mathbb{R}^{3+K}$ <br>\n",
    "> $\\underline{f}: \\mathbb{R}^{4+K}\\rightarrow\\mathbb{R}^{3+K}$ <br>\n",
    "\n",
    "Here <br>\n",
    "$\\underline{x}=\\left(R,\\dot{R},\\ T,\\ c_1,c_2,\\ldots c_K\\right)$\n",
    "> R: bubble radius [m] <br>\n",
    "> R_dot: d/dt(bubble radius) [m/s] <br>\n",
    "> T: temperature [K] <br>\n",
    "> c[1..K]: molar concentration of species [mol/cm^3] <br>"
   ]
  },
  {
   "cell_type": "code",
   "execution_count": 66,
   "metadata": {},
   "outputs": [],
   "source": [
    "\"\"\"Libraries\"\"\"\n",
    "\n",
    "# for plotting:\n",
    "%matplotlib inline\n",
    "import matplotlib.pyplot as plt\n",
    "plt.rcParams.update({'font.size': 18})\n",
    "\n",
    "import numpy as np   # matrices, math\n",
    "from scipy.integrate import solve_ivp   # differential equation solver\n",
    "from scipy.signal import argrelmin   # loc min finding\n",
    "import time   # runtime measurement\n",
    "from numba import jit, njit   # Just In Time compiler\n",
    "from numba.types import unicode_type, float64, float32, int64, int32   # JIT types\n",
    "import importlib   # For reloading your own files\n",
    "\n",
    "# my own files:\n",
    "import chemkin_AR_HE as par   # numeric constants and coefficents\n",
    "importlib.reload(par)   # reload changes you made\n",
    "\n",
    "# dot.notation access to dictionary attributes\n",
    "# instead of dictionary['key'] you can use dictionary.key\n",
    "class dotdict(dict):\n",
    "    __getattr__ = dict.get\n",
    "    __setattr__ = dict.__setitem__\n",
    "    __delattr__ = dict.__delitem__"
   ]
  },
  {
   "cell_type": "markdown",
   "metadata": {},
   "source": [
    "## Before the simulation\n",
    "\n",
    "### Saturated vapour pressure\n",
    "The saturated vapout pressure is an unique control parameter, as it is calculated from the ambient temperature via the Arden Buck equation:\n",
    "$p_v\\left(T\\right)=611.21\\exp{\\left(\\left(18.678-\\frac{T}{234.5}\\right)\\frac{T}{257.14+T}\\right)}$ <br>\n",
    "> T: temperature [°C] <br>\n",
    "> p_v: saturated vapout pressure [Pa]\n",
    "\n",
    "### Initial conditions\n",
    "The initial values can be written as: <br>\n",
    "$\\underline{x}\\left(0\\right)=\\underline{x}_{0}=\\left(R_0,\\ \\dot{R_0},\\ T_0,c_{10},\\ \\ldots c_{K0}\\right)$ <br>\n",
    "Where <br>\n",
    "$R_0=R_E$ <br>\n",
    "> R_E: equilibrium radius [m]\n",
    "\n",
    "$\\dot{R_0}=0$ <br>\n",
    "$T_0=T_{\\infty}$ <br>\n",
    "> T_inf: ambient temperature [K]"
   ]
  },
  {
   "cell_type": "code",
   "execution_count": 67,
   "metadata": {},
   "outputs": [],
   "source": [
    "# You can store the control parameters in a dictionary:\n",
    "cpar = dotdict(dict(\n",
    "    ID=0,\n",
    "    R_E=10e-6, # [m]\n",
    "    ratio=20.0, # [-]\n",
    "    P_inf=50e5, # [Pa]\n",
    "    alfa_M=0.05, # [-]\n",
    "    T_inf=303.15, # [m]\n",
    "    surfactant=0.25, # [-]\n",
    "))"
   ]
  },
  {
   "cell_type": "code",
   "execution_count": 68,
   "metadata": {},
   "outputs": [
    {
     "data": {
      "text/plain": [
       "4245.12571625229"
      ]
     },
     "execution_count": 68,
     "metadata": {},
     "output_type": "execute_result"
    }
   ],
   "source": [
    "@njit(float64(float64))\n",
    "def VapourPressure(T): # [K]\n",
    "    T -= 273.15 # [°C]\n",
    "    return 611.21 * np.exp( (18.678 - T / 234.5) * (T / (257.14 + T)) ) # [Pa]\n",
    "\n",
    "# usage:\n",
    "cpar.P_v = VapourPressure(T=cpar.T_inf) # [Pa]\n",
    "cpar.P_v"
   ]
  },
  {
   "cell_type": "code",
   "execution_count": 69,
   "metadata": {},
   "outputs": [
    {
     "data": {
      "text/plain": [
       "array([2.00000000e-04, 0.00000000e+00, 3.03150000e+02, 0.00000000e+00,\n",
       "       0.00000000e+00, 0.00000000e+00, 0.00000000e+00, 0.00000000e+00,\n",
       "       1.68422045e-06, 0.00000000e+00, 0.00000000e+00, 0.00000000e+00,\n",
       "       2.47931797e-07, 0.00000000e+00, 0.00000000e+00])"
      ]
     },
     "execution_count": 69,
     "metadata": {},
     "output_type": "execute_result"
    }
   ],
   "source": [
    "def InitialCondition(cpar):\n",
    "    IC = np.zeros((par.K+3), dtype=np.float64)\n",
    "    R_0 = cpar.ratio * cpar.R_E\n",
    "    \n",
    "    # Equilibrium state\n",
    "    p_E = cpar.P_inf + 2 * cpar.surfactant * par.sigma / cpar.R_E # [Pa]\n",
    "    V_E = 4.0 / 3.0 * cpar.R_E**3 * np.pi # [m^3]\n",
    "    p_gas = p_E - cpar.P_v\n",
    "    n_gas = p_gas * V_E / (par.R_g * cpar.T_inf) # [mol]\n",
    "    \n",
    "    # Isotermic expansion\n",
    "    V_0 = 4.0 / 3.0 * R_0**3 * np.pi    # [m^3]\n",
    "    n_H2O = cpar.P_v * V_0 / (par.R_g * cpar.T_inf) # [mol]\n",
    "    c_H2O = n_H2O / V_0    # [mol/m^3]\n",
    "    c_gas = n_gas / V_0    # [mol/m^3]\n",
    "\n",
    "    # Initial conditions\n",
    "    IC[0] = R_0   # R_0 [m]\n",
    "    IC[1] = 0.0    # dRdt_0 [m/s]\n",
    "    IC[2] = cpar.T_inf   # T_0 [K]\n",
    "    IC[3 + par.indexOfWater] = c_H2O * 1.0e-6    # [mol/cm^3]\n",
    "    IC[3 + par.indexOfArgon] = c_gas * 1.0e-6    # [mol/cm^3]\n",
    "\n",
    "    return IC\n",
    "\n",
    "# usage:\n",
    "IC = InitialCondition(cpar)\n",
    "IC"
   ]
  },
  {
   "cell_type": "code",
   "execution_count": 70,
   "metadata": {},
   "outputs": [
    {
     "data": {
      "text/plain": [
       "3.394622206120157e-07"
      ]
     },
     "execution_count": 70,
     "metadata": {},
     "output_type": "execute_result"
    }
   ],
   "source": [
    "#E_req = -int pdV + sigma(Amax-A0) + p_inf*(Vmax-V0)\n",
    "\"\"\"CHANGE!!!!!!!!!!!!!\"\"\"\n",
    "\n",
    "def Work(cpar):\n",
    "    R_0 = cpar.ratio * cpar.R_E # [m]\n",
    "    V_E = 4.0 / 3.0 * cpar.R_E**3 * np.pi    # [m^3]\n",
    "    V_0 = 4.0 / 3.0 * R_0**3 * np.pi  # [m^3]\n",
    "    \n",
    "    p_E = cpar.P_inf + 2 * cpar.surfactant * par.sigma / cpar.R_E # [Pa]\n",
    "    p_gas = p_E - cpar.P_v # [Pa]\n",
    "    n_gas = p_gas * V_E / (par.R_g * cpar.T_inf) # [mol]\n",
    "    \n",
    "    W_0 = cpar.P_v * V_0 + n_gas * par.R_g * cpar.T_inf * np.log(V_0) + 4.0 * np.pi * par.sigma * cpar.surfactant * R_0**2\n",
    "    W_E = cpar.P_v * V_E + n_gas * par.R_g * cpar.T_inf * np.log(V_E) + 4.0 * np.pi * par.sigma * cpar.surfactant * cpar.R_E**2\n",
    "    return W_0 - W_E    # [J]\n",
    "\n",
    "# usage\n",
    "Work(cpar) # [J]"
   ]
  },
  {
   "cell_type": "markdown",
   "metadata": {},
   "source": [
    "## Pressures"
   ]
  },
  {
   "cell_type": "code",
   "execution_count": 71,
   "metadata": {},
   "outputs": [
    {
     "data": {
      "text/plain": [
       "array([-5007.74239142,     0.        ])"
      ]
     },
     "execution_count": 71,
     "metadata": {},
     "output_type": "execute_result"
    }
   ],
   "source": [
    "@njit(float64[:](float64, float64, float64, float64, float64, float64, float64, float64))\n",
    "def Pressure(R, R_dot, T, T_dot, M, sum_omega_dot, P_inf, surfactant):\n",
    "    p_inf = P_inf\n",
    "    p_inf_dot = 0.0\n",
    "    p = 0.1 * M * par.R_erg * T\n",
    "    p_dot = p * (sum_omega_dot / M + T_dot / T - 3.0 * R_dot/R)\n",
    "    p_L = p - (2.0 * surfactant * par.sigma + 4.0 * par.mu_L * R_dot) / R\n",
    "    p_L_dot = p_dot + (-2.0 * surfactant * par.sigma * R_dot + 4.0 * par.mu_L * R_dot ** 2) / (R ** 2)\n",
    "    delta = (p_L - p_inf) / par.rho_L\n",
    "    delta_dot = (p_L_dot - p_inf_dot) / par.rho_L\n",
    "    return np.array([delta, delta_dot])\n",
    "\n",
    "# usage:\n",
    "Pressure(R=cpar.R_E, R_dot=0.0, T=cpar.T_inf, T_dot=0.0, M=np.sum(IC[3:]), sum_omega_dot=0.0, P_inf=cpar.P_inf, surfactant=cpar.surfactant)"
   ]
  },
  {
   "cell_type": "markdown",
   "metadata": {},
   "source": [
    "## NASA polynomials"
   ]
  },
  {
   "cell_type": "code",
   "execution_count": 72,
   "metadata": {},
   "outputs": [
    {
     "data": {
      "text/plain": [
       "array([2.07861500e+08, 2.88749448e+08, 2.18816358e+08, 2.94052705e+08,\n",
       "       2.98639722e+08, 3.36119824e+08, 2.91275480e+08, 3.49930572e+08,\n",
       "       4.26069205e+08, 2.07861500e+08, 2.07861500e+08, 2.99214322e+08])"
      ]
     },
     "execution_count": 72,
     "metadata": {},
     "output_type": "execute_result"
    }
   ],
   "source": [
    "# Corrects the temperature if it's not in the [T_low, T_high] intervall\n",
    "@njit(float64(int32, float64))\n",
    "def getT_act(k, T):\n",
    "    if T < par.TempRange[k][0]: # T < T_low --> T_low\n",
    "        return par.TempRange[k][0]\n",
    "    elif T > par.TempRange[k][1]: # T > T_high --> T_high\n",
    "        return par.TempRange[k][1]\n",
    "    else:\n",
    "        return T # T_low < T < T_high --> T\n",
    "\n",
    "# Returns the right set of NASA coefficents\n",
    "@njit(float64[:](int32, float64))\n",
    "def getCoeffs(k, T_act):\n",
    "    a = np.zeros((7), dtype=np.float64)\n",
    "    if T_act <= par.TempRange[k][2]: # T_act <= T_mid\n",
    "        a = par.a_low[k]\n",
    "    else:  # T_mid < T_act\n",
    "        a = par.a_high[k]\n",
    "    return a\n",
    "\n",
    "# returns molar heat capacities, enthalpies and entropies\n",
    "@njit(float64[:, :](float64[:], float64))\n",
    "def Thermodynamic(c, T):\n",
    "    ret = np.zeros((4, par.K), dtype=np.float64)   # [C_p, H, S, C_v]\n",
    "    exponent = np.array([1, 2, 3, 4, 5])\n",
    "    for k in range(par.K):\n",
    "    # get coefficients for T\n",
    "        T_act = getT_act(k, T)\n",
    "        a = getCoeffs(k, T_act)\n",
    "            \n",
    "     # calculate\n",
    "        T_vec = T_act ** (exponent-1)    # [1, T, T^2, T^3, T^4]\n",
    "        # Molar heat capacities at constant pressure (isobaric) [erg/mol/K]\n",
    "        ret[0][k] = par.R_erg * np.sum(a[:par.N] * T_vec)\n",
    "        # Enthalpies [erg/mol]\n",
    "        ret[1][k] = par.R_erg * T_act * (np.sum(a[:par.N] * T_vec / exponent) + a[par.N] / T_act)\n",
    "        # Entropies [erg/mol/K]\n",
    "        ret[2][k] = par.R_erg * (a[0] * np.log(T_act) + np.sum(a[1:par.N] * T_vec[1:] / (exponent[1:]-1)) + a[par.N+1])\n",
    "    # Molar heat capacities at constant volume (isochoric) [erg/mol/K]\n",
    "    ret[3] = ret[0] - par.R_erg \n",
    "    return ret\n",
    "\n",
    "# usage:\n",
    "[C_p, H, S, C_v] = Thermodynamic(c=IC[3:], T=cpar.T_inf)\n",
    "C_p"
   ]
  },
  {
   "cell_type": "markdown",
   "metadata": {},
   "source": [
    "## Evaporation"
   ]
  },
  {
   "cell_type": "code",
   "execution_count": 73,
   "metadata": {},
   "outputs": [
    {
     "data": {
      "text/plain": [
       "array([-3.57522419e+00, -1.20791005e+05])"
      ]
     },
     "execution_count": 73,
     "metadata": {},
     "output_type": "execute_result"
    }
   ],
   "source": [
    "@njit(float64[:](float64, float64, float64, float64, float64, float64))\n",
    "def Evaporation(M, T, X_H2O, alfa_M, T_inf, P_v):\n",
    "# condensation and evaporation\n",
    "    p = 0.1 * M * par.R_erg * T\n",
    "    p_H2O = X_H2O * p\n",
    "    n_eva_dot = 1.0e3 * alfa_M * P_v / (par.W[par.indexOfWater] * np.sqrt(2.0 * np.pi * par.R_v * T_inf)) # W_H2O=par.W[5] is in g/mol --> *1000\n",
    "    n_con_dot = 1.0e3 * alfa_M * p_H2O / (par.W[par.indexOfWater] * np.sqrt(2.0 * np.pi * par.R_v * T))\n",
    "    n_net_dot = n_eva_dot - n_con_dot\n",
    "# Molar heat capacity of water at constant volume (isochoric) [erg/mol/K]\n",
    "    exponent = np.array([1, 2, 3, 4, 5])\n",
    "    T_act = getT_act(5, T)\n",
    "    a = getCoeffs(5, T)\n",
    "    T_vec = T_act ** (exponent-1)    # [1, T, T^2, T^3, T^4]\n",
    "    C_v = par.R_erg * (np.sum(a[:par.N] * T_vec) - 1.0)\n",
    "    T_act = getT_act(5, T_inf); a = getCoeffs(5, T_inf)\n",
    "    T_vec = T_act ** (exponent-1)    # [1, T, T^2, T^3, T^4]\n",
    "    C_v_inf = par.R_erg * (np.sum(a[:par.N] * T_vec) - 1.0)\n",
    "# Evaporation energy\n",
    "    e_eva = C_v_inf * T_inf * 1e-7   # J/mol\n",
    "    e_con = C_v * T * 1e-7\n",
    "    evap_energy = n_eva_dot * e_eva - n_con_dot * e_con    # W/m^2\n",
    "    return np.array([n_net_dot, evap_energy])\n",
    "\n",
    "# usage:\n",
    "X_H2O = IC[3+par.indexOfWater] / np.sum(IC[3:])\n",
    "Evaporation(M=np.sum(IC[3:]), T=500.0, X_H2O=X_H2O, alfa_M=cpar.alfa_M, T_inf=cpar.T_inf, P_v=cpar.P_v)"
   ]
  },
  {
   "cell_type": "markdown",
   "metadata": {},
   "source": [
    "## Reactionrates"
   ]
  },
  {
   "cell_type": "code",
   "execution_count": 74,
   "metadata": {},
   "outputs": [
    {
     "data": {
      "text/plain": [
       "array([4.44122182e+08, 1.61727778e+09, 4.34136164e+10, 1.57026291e+11,\n",
       "       2.92160787e+15, 3.54082363e+14, 1.55500577e+16, 6.74083507e+17,\n",
       "       3.59381656e+11, 1.44875851e+12, 5.00467744e+13, 3.25000000e+13,\n",
       "       2.33475789e+13, 5.07449204e+11, 3.65802250e+09, 2.72193894e+11,\n",
       "       8.73951754e+11, 6.19709720e+11, 3.18265037e+10, 1.33401928e+12,\n",
       "       1.74848022e+11, 1.01868550e+11, 2.11804360e+14, 7.44313474e+13,\n",
       "       5.30779533e+12, 1.98117882e+14, 2.62240183e+13, 5.33932260e+10,\n",
       "       5.45116450e+13])"
      ]
     },
     "execution_count": 74,
     "metadata": {},
     "output_type": "execute_result"
    }
   ],
   "source": [
    "@njit(float64[:](float64, float64[:]))\n",
    "def ForwardRate(T, M_eff):\n",
    "# Reaction rate, equation 21\n",
    "    k_forward = par.A * T ** par.b * np.exp(-par.E / (par.R_cal * T))\n",
    "    \n",
    "# Pressure dependent reactions, equations 35-43\n",
    "    for j, i in enumerate(par.PressureDependentIndexes):    # i is the number of reaction, j is the index of i's place in par.PressureDependentIndexes\n",
    "        k_inf = k_forward[i]    # par.A[i] * T ** par.b[i] * np.exp(-par.E[i] / (par.R_cal * T))\n",
    "        k_0 = par.ReacConst[j][0] * T ** par.ReacConst[j][1] * np.exp(-par.ReacConst[j][2] / (par.R_cal * T))\n",
    "        P_r = k_0 / k_inf * M_eff[i]\n",
    "        logP_r = np.log10(P_r)\n",
    "        \n",
    "        # Keep in mind, some T** values are not used (if they are 0.0, not here)\n",
    "        F_cent = (1.0 - par.Troe[j][0]) * np.exp(-T / par.Troe[j][1]) + par.Troe[j][0] * np.exp(-T / par.Troe[j][2]) + np.exp(-par.Troe[j][3] / T)\n",
    "        logF_cent = np.log10(F_cent)\n",
    "        c = -0.4 - 0.67 * logF_cent\n",
    "        n = 0.75 - 1.27 * logF_cent\n",
    "        d = 0.14\n",
    "        logF = 1.0 / (1.0 + ((logP_r + c) / (n - d * (logP_r + c))) ** 2) * logF_cent\n",
    "        F = 10.0 ** logF\n",
    "        \n",
    "        k_forward[i] = k_inf * P_r / (1.0 + P_r) * F\n",
    "    return k_forward\n",
    "\n",
    "# usage:\n",
    "M_eff = np.sum(IC[3:]) * np.ones((par.I))    # M_eff: effective total concentration of the third-body species\n",
    "for j, i in enumerate(par.ThirdBodyIndexes):\n",
    "    M_eff[i] = np.sum(par.alfa[j] * IC[3:]) \n",
    "k_f = ForwardRate(T=cpar.T_inf, M_eff=M_eff)\n",
    "k_f"
   ]
  },
  {
   "cell_type": "code",
   "execution_count": 75,
   "metadata": {},
   "outputs": [
    {
     "data": {
      "text/plain": [
       "array([1.39298857e+19, 8.18795868e+09, 4.71091411e+00, 3.36558507e+00,\n",
       "       3.81133343e-62, 7.45598881e-73, 1.02701798e-60, 9.54218740e-70,\n",
       "       8.58405465e-27, 7.91251324e-28, 4.34040895e-15, 8.98654664e-26,\n",
       "       1.38369230e-36, 1.05464111e-15, 7.60253612e-18, 1.55801813e-25,\n",
       "       2.16136229e-39, 1.62852578e-01, 4.23434543e-02, 3.80406263e-11,\n",
       "       4.98593112e-12, 4.15931402e+01, 3.42609460e-53, 1.20398295e-53,\n",
       "       8.58575759e-55, 3.20470555e-53, 4.24193192e-54, 8.63675532e-57,\n",
       "       8.81766799e-54])"
      ]
     },
     "execution_count": 75,
     "metadata": {},
     "output_type": "execute_result"
    }
   ],
   "source": [
    "# FinalUson2022.pdf equation 28-32\n",
    "@njit(float64[:](float64[:], float64[:], float64[:], float64, float64))\n",
    "def BackwardRate(k_forward, S, H, T, P_inf):\n",
    "    DeltaS = np.sum(par.nu * S, axis=1)\n",
    "    DeltaH = np.sum(par.nu * H, axis=1)\n",
    "    K_p = np.exp(DeltaS / par.R_erg - DeltaH / (par.R_erg * T))\n",
    "    K_c = K_p * (P_inf * 10.0 / (par.R_erg * T)) ** np.sum(par.nu, axis=1)\n",
    "    k_backward = k_forward / K_c\n",
    "    return k_backward\n",
    "\n",
    "# usage:\n",
    "k_b = BackwardRate(k_forward=k_f, S=S, H=H, T=cpar.T_inf, P_inf=cpar.T_inf)\n",
    "k_b"
   ]
  },
  {
   "cell_type": "code",
   "execution_count": 76,
   "metadata": {},
   "outputs": [
    {
     "data": {
      "text/plain": [
       "array([ 5.38219335e-76,  0.00000000e+00,  0.00000000e+00,  0.00000000e+00,\n",
       "        5.38219335e-76, -5.38219335e-76,  0.00000000e+00,  0.00000000e+00,\n",
       "        0.00000000e+00,  0.00000000e+00,  0.00000000e+00,  0.00000000e+00])"
      ]
     },
     "execution_count": 76,
     "metadata": {},
     "output_type": "execute_result"
    }
   ],
   "source": [
    "@njit(float64[:](float64, float64[:], float64[:], float64[:], float64))\n",
    "def ProductionRate(T, H, S, c, P_inf):\n",
    "# equation 34\n",
    "    M_eff = np.sum(c) * np.ones((par.I))    # effective total concentration of the third-body species\n",
    "    for j, i in enumerate(par.ThirdBodyIndexes):\n",
    "        M_eff[i] = np.sum(par.alfa[j] * c) \n",
    "    \n",
    "    k_forward = ForwardRate(T=T, M_eff=M_eff)\n",
    "    k_backward = BackwardRate(k_forward=k_forward, S=S, H=H, T=T, P_inf=P_inf)\n",
    "\n",
    "# Net rate, equation 23\n",
    "    q = np.zeros((par.I))\n",
    "    for i in range(par.I):\n",
    "        q[i] = k_forward[i] * np.prod(c ** par.nu_forward[i]) - k_backward[i] * np.prod(c ** par.nu_backward[i])\n",
    "# Three body reactions, equation 33-34\n",
    "    for j, i in enumerate(par.ThirdBodyIndexes):    # i is the number of reaction, j is the index of i in par.ThirdBodyIndexes\n",
    "        if i not in par.PressureDependentIndexes:\n",
    "            q[i] *= M_eff[i]\n",
    "# Production rate, equation 24\n",
    "    omega_dot = np.zeros((par.K))\n",
    "    for k in range(par.K):\n",
    "        omega_dot[k] = np.sum(par.nu[:, k] * q)\n",
    "    \n",
    "    return omega_dot\n",
    "\n",
    "# usage:\n",
    "ProductionRate(T=cpar.T_inf, H=H, S=S, c=IC[3:], P_inf=cpar.P_inf)"
   ]
  },
  {
   "cell_type": "markdown",
   "metadata": {},
   "source": [
    "## Differencial equation"
   ]
  },
  {
   "cell_type": "code",
   "execution_count": 43,
   "metadata": {},
   "outputs": [
    {
     "data": {
      "text/plain": [
       "array([ 0.00000000e+00, -2.50212502e+07,  9.55294445e-09,  5.38219335e-76,\n",
       "        0.00000000e+00,  0.00000000e+00,  0.00000000e+00,  5.38219335e-76,\n",
       "        5.32907052e-17,  0.00000000e+00,  0.00000000e+00,  0.00000000e+00,\n",
       "        0.00000000e+00,  0.00000000e+00,  0.00000000e+00])"
      ]
     },
     "execution_count": 43,
     "metadata": {},
     "output_type": "execute_result"
    }
   ],
   "source": [
    "enable_heat_transfer = True\n",
    "enable_evaporation = True\n",
    "enable_evap_energy = True\n",
    "enable_reactions = True\n",
    "\n",
    "@njit(float64[:](float64, float64[:], float64, float64, float64, float64, float64))\n",
    "def f(t, x, alfa_M, T_inf, P_v, P_inf, surfactant):    \n",
    "    R = x[0]      # bubble radius [m]\n",
    "    R_dot = x[1]   \n",
    "    T = x[2]      # temperature [K]\n",
    "    c = x[3:]     # molar concentration [mol/cm^3]\n",
    "    M = np.sum(c) # sum of concentration\n",
    "    X = c / M     # mole fraction [-]\n",
    "    dxdt = np.zeros(x.shape, dtype = np.float64)\n",
    "    \n",
    "# d/dt R\n",
    "    dxdt[0] = R_dot\n",
    "# Evaporation\n",
    "    n_net_dot = 0.0  \n",
    "    evap_energy = 0.0\n",
    "    if enable_evaporation:\n",
    "        n_net_dot, evap_energy = Evaporation(M=M, T=T, X_H2O=X[par.indexOfWater], alfa_M=alfa_M, T_inf=T_inf, P_v=P_v)\n",
    "# Thermodynamics\n",
    "    # equation 11-14\n",
    "    [C_p, H, S, C_v] = Thermodynamic(c=c, T=T)\n",
    "    W_avg = np.sum(X * par.W)\n",
    "    rho_avg = W_avg * M # or np.sum(c * par.W)\n",
    "    C_p_avg = np.sum(X * C_p)\n",
    "    C_v_avg = np.sum(X * C_v)\n",
    "    # equation 15-18\n",
    "    lambda_avg = np.sum(X * par.lambdas)\n",
    "    chi_avg = 10.0 * lambda_avg * W_avg / (C_p_avg * rho_avg)\n",
    "    l_th = np.inf\n",
    "    if R_dot != 0.0:\n",
    "        l_th = np.sqrt(R * chi_avg / abs(R_dot))\n",
    "    l_th = min(l_th, R / np.pi)\n",
    "    Q_th_dot = 0.0\n",
    "    if enable_heat_transfer:\n",
    "        Q_th_dot = lambda_avg * (T_inf - T) / l_th\n",
    "# d/dt c, equations 44-45\n",
    "    omega_dot = np.zeros((par.K))\n",
    "    if enable_reactions:\n",
    "        omega_dot = ProductionRate(T=T, H=H, S=S, c=c, P_inf=P_inf)\n",
    "    c_dot = omega_dot - c * 3.0 * R_dot / R\n",
    "    c_dot[par.indexOfWater] += 1.0e-6 * n_net_dot * 3.0 / R    # water evaporation\n",
    "    M_dot = np.sum(c_dot)\n",
    "    dxdt[3:] = c_dot\n",
    "# d/dt T\n",
    "    # equation 25-26\n",
    "    Q_r_dot = -np.sum(H * omega_dot)\n",
    "    \n",
    "    p = 0.1 * M * par.R_erg * T\n",
    "    n_t = M * 4.0/3.0 * np.pi * R ** 3    # molar concentration\n",
    "    T_dot = (Q_r_dot + 30.0 / R * (-p * R_dot + Q_th_dot + evap_energy)) / (M * C_v_avg)\n",
    "    dxdt[2] = T_dot\n",
    "# d/dt R_dot\n",
    "    [delta, delta_dot] = Pressure(\n",
    "        R=R, R_dot=R_dot, T=T, T_dot=T_dot,\n",
    "        M=M, sum_omega_dot=np.sum(omega_dot),\n",
    "        P_inf=P_inf, surfactant=surfactant\n",
    "    )   # delta = (p_L-p_inf) / rho_L\n",
    "    Nom = (1.0 + R_dot / par.c_L) * delta + R / par.c_L * delta_dot - (1.5 - 0.5 * R_dot / par.c_L) * R_dot ** 2\n",
    "    Den = (1.0 - R_dot / par.c_L) * R + 4.0 * par.mu_L / (par.c_L * par.rho_L)\n",
    "    \n",
    "    dxdt[1] = Nom / Den\n",
    "    \n",
    "    return dxdt\n",
    "\n",
    "# usage:\n",
    "f(t=0.0, x=IC, alfa_M=cpar.alfa_M, T_inf=cpar.T_inf, P_v=cpar.P_v, P_inf=cpar.P_inf, surfactant=cpar.surfactant)"
   ]
  },
  {
   "cell_type": "markdown",
   "metadata": {},
   "source": [
    "## Solving"
   ]
  },
  {
   "cell_type": "code",
   "execution_count": 88,
   "metadata": {},
   "outputs": [
    {
     "data": {
      "text/plain": [
       "  message: 'The solver successfully reached the end of the integration interval.'\n",
       "     nfev: 67128\n",
       "     njev: 2487\n",
       "      nlu: 2487\n",
       "      sol: None\n",
       "   status: 0\n",
       "  success: True\n",
       "        t: array([0.00000000e+00, 3.99660285e-13, 7.99320571e-13, ...,\n",
       "       4.37876320e-01, 6.84371718e-01, 1.00000000e+00])\n",
       " t_events: None\n",
       "        y: array([[ 2.00000000e-004,  2.00000000e-004,  2.00000000e-004, ...,\n",
       "         1.01620349e-005,  1.01620349e-005,  1.01620349e-005],\n",
       "       [ 0.00000000e+000, -9.99999986e-006, -1.99999996e-005, ...,\n",
       "        -2.11381795e-015,  2.06581025e-015, -2.87853311e-015],\n",
       "       [ 3.03150000e+002,  3.03150000e+002,  3.03150000e+002, ...,\n",
       "         3.03150000e+002,  3.03150000e+002,  3.03150000e+002],\n",
       "       ...,\n",
       "       [ 2.47931797e-007,  2.47931797e-007,  2.47931797e-007, ...,\n",
       "         1.89008063e-003,  1.89008063e-003,  1.89008063e-003],\n",
       "       [ 0.00000000e+000,  0.00000000e+000,  0.00000000e+000, ...,\n",
       "         0.00000000e+000,  0.00000000e+000,  0.00000000e+000],\n",
       "       [ 0.00000000e+000,  4.96013803e-159,  1.48797071e-158, ...,\n",
       "         7.30475848e-053,  1.31223619e-053,  6.77704339e-055]])\n",
       " y_events: None"
      ]
     },
     "execution_count": 88,
     "metadata": {},
     "output_type": "execute_result"
    }
   ],
   "source": [
    "# This funfction solves the differential equation, and returns the numerical solution\n",
    "# Error codes:\n",
    "    # 0: succecfully solved with LSODA solver\n",
    "    # 1: LSODA solver didn't converge, but Radau solver worked\n",
    "    # 2: LSODA solver had a fatal error, but Radau solver worked\n",
    "    # 3: Radau solver didn't converge (NO SOLUTION!)\n",
    "    # 4: Radau solver had a fatal error (NO SOLUTION!)\n",
    "def solve(cpar, t_int=np.array([0.0, 1.0])):\n",
    "    error_code = 0\n",
    "    start = time.process_time()\n",
    "    IC = InitialCondition(cpar)\n",
    "    #f(t, x, alfa_M, T_inf, P_v, P_inf, surfactant)\n",
    "    \n",
    "    try:\n",
    "        num_sol = solve_ivp(f, t_int, IC, method='LSODA', atol = 1e-10, rtol=1e-10, args=(cpar.alfa_M, cpar.T_inf, cpar.P_v, cpar.P_inf, cpar.surfactant))\n",
    "        # docs: https://docs.scipy.org/doc/scipy/reference/generated/scipy.integrate.solve_ivp.html\n",
    "        if num_sol.success == False: error_code = 1\n",
    "    except:\n",
    "        error_code = 2\n",
    "    if error_code != 0:\n",
    "        try:\n",
    "            num_sol = solve_ivp(f, t_int, IC, method='Radau', atol = 1e-10, rtol=1e-10, args=(cpar.alfa_M, cpar.T_inf, cpar.P_v, cpar.P_inf, cpar.surfactant))\n",
    "            if num_sol.success == False: error = 3\n",
    "        except:\n",
    "            error_code = 4\n",
    "    \n",
    "    end = time.process_time()\n",
    "    elapsed_time = (end - start)\n",
    "    \n",
    "    return num_sol, error_code, elapsed_time\n",
    "\n",
    "# usage:\n",
    "num_sol, error_code, elapsed_time = solve(cpar)\n",
    "num_sol"
   ]
  },
  {
   "cell_type": "code",
   "execution_count": 96,
   "metadata": {},
   "outputs": [
    {
     "data": {
      "text/plain": [
       "{'ID': 0,\n",
       " 'R_E': 1e-05,\n",
       " 'ratio': 20.0,\n",
       " 'P_inf': 5000000.0,\n",
       " 'alfa_M': 0.05,\n",
       " 'T_inf': 303.15,\n",
       " 'surfactant': 0.25,\n",
       " 'error_code': 0,\n",
       " 'elapsed_time': 2.4375,\n",
       " 'collapse_time': 2.6689567521360034e-06,\n",
       " 'T_max': 4189.915734957215,\n",
       " 'x_final': array([ 1.01620349e-05, -2.87853311e-15,  3.03150000e+02, -2.90584427e-25,\n",
       "         6.21055890e-05, -3.53392197e-26,  3.08602082e-05, -3.22764906e-26,\n",
       "         1.68422045e-06, -6.39907162e-28, -1.04708979e-11,  3.85188425e-07,\n",
       "         1.89008063e-03,  0.00000000e+00,  6.77704339e-55]),\n",
       " 'n_H2': 2.7299917607345993e-13,\n",
       " 'n_O2': 1.3565303109730984e-13,\n",
       " 'work': 3.394622206120157e-07,\n",
       " 'energy': 621.7275551789056}"
      ]
     },
     "execution_count": 96,
     "metadata": {},
     "output_type": "execute_result"
    }
   ],
   "source": [
    "# This function gets the numerical solution and the control parameters, and returns some datas about the simulation\n",
    "def getData(cpar, num_sol, error_code, elapsed_time):\n",
    "# copy cpar:\n",
    "    data = dotdict(dict(\n",
    "        ID=cpar.ID,\n",
    "        R_E=cpar.R_E,\n",
    "        ratio=cpar.ratio,\n",
    "        P_inf=cpar.P_inf,\n",
    "        alfa_M=cpar.alfa_M,\n",
    "        T_inf=cpar.T_inf,\n",
    "        surfactant=cpar.surfactant\n",
    "    ))\n",
    "# runtime and error, return if solving wasn't succesful\n",
    "    data.error_code = error_code\n",
    "    data.elapsed_time = elapsed_time # [s]\n",
    "    \n",
    "    if error_code==3 or error_code==4:\n",
    "        return data\n",
    "    \n",
    "# collapse time (first loc min of R)\n",
    "    loc_min = argrelmin(num_sol.y[:][0])\n",
    "    data.collapse_time = 0.0\n",
    "    if not len(loc_min[0]) == 0:\n",
    "        data.collapse_time = num_sol.t[loc_min[0][0]]\n",
    "# Energy calculations\n",
    "    data.T_max = np.max(num_sol.y[:][2]) # maximum of temperature peaks [K]\n",
    "    data.x_final = num_sol.y[:, -1] # final values of [R, R_dot, T, c_1, ... c_K]\n",
    "    last_V = 4.0 / 3.0 * (100.0 * data.x_final[0]) ** 3 * np.pi # [cm^3]\n",
    "    data.n_H2 = data.x_final[3+par.indexOfHydrogen] * last_V # [mol]\n",
    "    data.n_O2 = data.x_final[3+par.indexOfOxygen] * last_V # [mol]\n",
    "    m_H2 = 1e-3 * data.n_H2 * par.W[par.indexOfHydrogen] # [kg]\n",
    "    data.work = Work(cpar) # [J]\n",
    "    data.energy = 1e-6 * data.work / m_H2 # [MJ/kg]\n",
    "    \n",
    "    return data\n",
    "    \n",
    "# usage:\n",
    "data = getData(cpar, num_sol, error_code, elapsed_time)\n",
    "data"
   ]
  },
  {
   "cell_type": "code",
   "execution_count": 99,
   "metadata": {},
   "outputs": [
    {
     "ename": "NameError",
     "evalue": "name 'R_E' is not defined",
     "output_type": "error",
     "traceback": [
      "\u001b[1;31m---------------------------------------------------------------------------\u001b[0m",
      "\u001b[1;31mNameError\u001b[0m                                 Traceback (most recent call last)",
      "Input \u001b[1;32mIn [99]\u001b[0m, in \u001b[0;36m<cell line: 75>\u001b[1;34m()\u001b[0m\n\u001b[0;32m     70\u001b[0m     plt\u001b[38;5;241m.\u001b[39mshow()\n\u001b[0;32m     71\u001b[0m     \u001b[38;5;66;03m#if saveit:\u001b[39;00m\n\u001b[0;32m     72\u001b[0m     \u001b[38;5;66;03m#    fig.savefig('images/plot_mol.png')\u001b[39;00m\n\u001b[0;32m     73\u001b[0m     \n\u001b[0;32m     74\u001b[0m \u001b[38;5;66;03m# usage:\u001b[39;00m\n\u001b[1;32m---> 75\u001b[0m \u001b[43mplot\u001b[49m\u001b[43m(\u001b[49m\u001b[43mcpar\u001b[49m\u001b[43m)\u001b[49m\n",
      "Input \u001b[1;32mIn [99]\u001b[0m, in \u001b[0;36mplot\u001b[1;34m(cpar, t_int, base_name)\u001b[0m\n\u001b[0;32m     31\u001b[0m     ax1\u001b[38;5;241m.\u001b[39mgrid()\n\u001b[0;32m     33\u001b[0m \u001b[38;5;66;03m# textbox with initial conditions\u001b[39;00m\n\u001b[1;32m---> 34\u001b[0m     text \u001b[38;5;241m=\u001b[39m \u001b[38;5;124mf\u001b[39m\u001b[38;5;124m\"\"\"\u001b[39m\n\u001b[0;32m     35\u001b[0m \u001b[38;5;124m    Initial conditions:\u001b[39m\n\u001b[0;32m     36\u001b[0m \u001b[38;5;124m      \u001b[39m\u001b[38;5;132;01m{\u001b[39;00m\u001b[38;5;124m'\u001b[39m\u001b[38;5;124m$R_E$\u001b[39m\u001b[38;5;124m'\u001b[39m\u001b[38;5;132;01m:\u001b[39;00m\u001b[38;5;124m<25\u001b[39m\u001b[38;5;132;01m}\u001b[39;00m\u001b[38;5;124m \u001b[39m\u001b[38;5;132;01m{\u001b[39;00m\u001b[38;5;241m1e6\u001b[39m\u001b[38;5;241m*\u001b[39mR_E\u001b[38;5;132;01m:\u001b[39;00m\u001b[38;5;124m .2f\u001b[39m\u001b[38;5;132;01m}\u001b[39;00m\u001b[38;5;124m  $[\u001b[39m\u001b[38;5;124m\\\u001b[39m\u001b[38;5;124mmu m]$\u001b[39m\n\u001b[0;32m     37\u001b[0m \u001b[38;5;124m      \u001b[39m\u001b[38;5;132;01m{\u001b[39;00m\u001b[38;5;124m'\u001b[39m\u001b[38;5;124m$R_0/R_E$\u001b[39m\u001b[38;5;124m'\u001b[39m\u001b[38;5;132;01m:\u001b[39;00m\u001b[38;5;124m<25\u001b[39m\u001b[38;5;132;01m}\u001b[39;00m\u001b[38;5;124m \u001b[39m\u001b[38;5;132;01m{\u001b[39;00mratio\u001b[38;5;132;01m:\u001b[39;00m\u001b[38;5;124m .2f\u001b[39m\u001b[38;5;132;01m}\u001b[39;00m\u001b[38;5;124m  $[-]$\u001b[39m\n\u001b[0;32m     38\u001b[0m \u001b[38;5;124m      \u001b[39m\u001b[38;5;132;01m{\u001b[39;00m\u001b[38;5;124m'\u001b[39m\u001b[38;5;124m$P_∞$\u001b[39m\u001b[38;5;124m'\u001b[39m\u001b[38;5;132;01m:\u001b[39;00m\u001b[38;5;124m<25\u001b[39m\u001b[38;5;132;01m}\u001b[39;00m\u001b[38;5;124m \u001b[39m\u001b[38;5;132;01m{\u001b[39;00m\u001b[38;5;241m1e-5\u001b[39m\u001b[38;5;241m*\u001b[39mP_inf\u001b[38;5;132;01m:\u001b[39;00m\u001b[38;5;124m .2f\u001b[39m\u001b[38;5;132;01m}\u001b[39;00m\u001b[38;5;124m  $[bar]$\u001b[39m\n\u001b[0;32m     39\u001b[0m \u001b[38;5;124m      \u001b[39m\u001b[38;5;132;01m{\u001b[39;00m\u001b[38;5;124m'\u001b[39m\u001b[38;5;124m$α_M$\u001b[39m\u001b[38;5;124m'\u001b[39m\u001b[38;5;132;01m:\u001b[39;00m\u001b[38;5;124m<25\u001b[39m\u001b[38;5;132;01m}\u001b[39;00m\u001b[38;5;124m \u001b[39m\u001b[38;5;132;01m{\u001b[39;00malfa_M\u001b[38;5;132;01m:\u001b[39;00m\u001b[38;5;124m .2f\u001b[39m\u001b[38;5;132;01m}\u001b[39;00m\u001b[38;5;124m  $[-]$\u001b[39m\n\u001b[0;32m     40\u001b[0m \u001b[38;5;124m      \u001b[39m\u001b[38;5;132;01m{\u001b[39;00m\u001b[38;5;124m'\u001b[39m\u001b[38;5;124m$T_∞$\u001b[39m\u001b[38;5;124m'\u001b[39m\u001b[38;5;132;01m:\u001b[39;00m\u001b[38;5;124m<25\u001b[39m\u001b[38;5;132;01m}\u001b[39;00m\u001b[38;5;124m \u001b[39m\u001b[38;5;132;01m{\u001b[39;00mT_inf\u001b[38;5;241m-\u001b[39m\u001b[38;5;241m273.15\u001b[39m\u001b[38;5;132;01m:\u001b[39;00m\u001b[38;5;124m .2f\u001b[39m\u001b[38;5;132;01m}\u001b[39;00m\u001b[38;5;124m  $[°C]$\u001b[39m\n\u001b[0;32m     41\u001b[0m \u001b[38;5;124m      \u001b[39m\u001b[38;5;132;01m{\u001b[39;00m\u001b[38;5;124m'\u001b[39m\u001b[38;5;124m$P_\u001b[39m\u001b[38;5;132;01m{vapour}\u001b[39;00m\u001b[38;5;124m$\u001b[39m\u001b[38;5;124m'\u001b[39m\u001b[38;5;132;01m:\u001b[39;00m\u001b[38;5;124m<25\u001b[39m\u001b[38;5;132;01m}\u001b[39;00m\u001b[38;5;124m \u001b[39m\u001b[38;5;132;01m{\u001b[39;00mP_v\u001b[38;5;132;01m:\u001b[39;00m\u001b[38;5;124m .1f\u001b[39m\u001b[38;5;132;01m}\u001b[39;00m\u001b[38;5;124m  $[Pa]$\u001b[39m\n\u001b[0;32m     42\u001b[0m \u001b[38;5;124m      \u001b[39m\u001b[38;5;132;01m{\u001b[39;00m\u001b[38;5;124m'\u001b[39m\u001b[38;5;124m$surfactant$\u001b[39m\u001b[38;5;124m'\u001b[39m\u001b[38;5;132;01m:\u001b[39;00m\u001b[38;5;124m<25\u001b[39m\u001b[38;5;132;01m}\u001b[39;00m\u001b[38;5;124m \u001b[39m\u001b[38;5;132;01m{\u001b[39;00msurfactant\u001b[38;5;132;01m:\u001b[39;00m\u001b[38;5;124m .2f\u001b[39m\u001b[38;5;132;01m}\u001b[39;00m\u001b[38;5;124m  $[-]$\u001b[39m\n\u001b[0;32m     43\u001b[0m \u001b[38;5;124m    \u001b[39m\u001b[38;5;124m\"\"\"\u001b[39m\n\u001b[0;32m     44\u001b[0m     ax1\u001b[38;5;241m.\u001b[39mtext(\n\u001b[0;32m     45\u001b[0m         \u001b[38;5;241m0.75\u001b[39m, \u001b[38;5;241m0.95\u001b[39m, \u001b[38;5;66;03m# coordinates\u001b[39;00m\n\u001b[0;32m     46\u001b[0m         text, transform\u001b[38;5;241m=\u001b[39max1\u001b[38;5;241m.\u001b[39mtransAxes, horizontalalignment\u001b[38;5;241m=\u001b[39m\u001b[38;5;124m'\u001b[39m\u001b[38;5;124mleft\u001b[39m\u001b[38;5;124m'\u001b[39m,\n\u001b[0;32m     47\u001b[0m         verticalalignment\u001b[38;5;241m=\u001b[39m\u001b[38;5;124m'\u001b[39m\u001b[38;5;124mtop\u001b[39m\u001b[38;5;124m'\u001b[39m, fontsize\u001b[38;5;241m=\u001b[39m\u001b[38;5;241m16\u001b[39m, fontstyle\u001b[38;5;241m=\u001b[39m\u001b[38;5;124m'\u001b[39m\u001b[38;5;124moblique\u001b[39m\u001b[38;5;124m'\u001b[39m,\n\u001b[0;32m     48\u001b[0m         bbox\u001b[38;5;241m=\u001b[39m{\u001b[38;5;124m'\u001b[39m\u001b[38;5;124mfacecolor\u001b[39m\u001b[38;5;124m'\u001b[39m: \u001b[38;5;124m'\u001b[39m\u001b[38;5;124mwhite\u001b[39m\u001b[38;5;124m'\u001b[39m, \u001b[38;5;124m'\u001b[39m\u001b[38;5;124malpha\u001b[39m\u001b[38;5;124m'\u001b[39m: \u001b[38;5;241m1.0\u001b[39m, \u001b[38;5;124m'\u001b[39m\u001b[38;5;124mpad\u001b[39m\u001b[38;5;124m'\u001b[39m: \u001b[38;5;241m10\u001b[39m},\n\u001b[0;32m     49\u001b[0m     )\n\u001b[0;32m     51\u001b[0m     plt\u001b[38;5;241m.\u001b[39mshow()\n",
      "\u001b[1;31mNameError\u001b[0m: name 'R_E' is not defined"
     ]
    },
    {
     "data": {
      "image/png": "[encoded data removed]",
      "text/plain": [
       "<Figure size 1440x432 with 2 Axes>"
      ]
     },
     "metadata": {
      "needs_background": "light"
     },
     "output_type": "display_data"
    }
   ],
   "source": [
    "# This funfction solves the differential equation, and plots it\n",
    "def plot(cpar, t_int=np.array([0.0, 1.0]), base_name=''):\n",
    "    num_sol, error_code, elapsed_time = solve(cpar, t_int)\n",
    "    data = getData(cpar, num_sol, error_code, elapsed_time)\n",
    "    \n",
    "# Calculations\n",
    "    time_to_plot = 5.0 * data.collapse_time\n",
    "    if t_int[1] != 1.0: time_to_plot = t_int[1]\n",
    "    end_index = np.where(num_sol.t > time_to_plot)[0][0]\n",
    "\n",
    "    t = num_sol.t[:end_index] # [s]\n",
    "    R = num_sol.y[0, :end_index] # [m]\n",
    "    R_dot = num_sol.y[1, :end_index] # [m/s]\n",
    "    T = num_sol.y[2, :end_index] # [K]\n",
    "    c = num_sol.y[3:, :end_index] # [mol/cm^3]\n",
    "\n",
    "    V = 4.0 / 3.0 * (100.0 * R) ** 3 * np.pi # [cm^3]\n",
    "    n = c * V\n",
    "\n",
    "# plot R and T\n",
    "    fig = plt.figure(figsize=(20, 6))\n",
    "    ax1 = fig.add_subplot(axisbelow=True)\n",
    "    ax2 = ax1.twinx()\n",
    "    ax1.plot(t, R / cpar.R_E, label = \"R [m]\", color = 'b', linewidth = 1.0)\n",
    "    ax2.plot(t, T, label = \"T [K]\", color = 'r', linewidth = 1.0, linestyle = '-.')\n",
    "\n",
    "    ax1.set_ylabel('$y1$ [-]')\n",
    "    ax1.set_xlabel('$t$ [s]')\n",
    "    ax1.set_ylabel('$R/R_E$ [-]', color = 'b')\n",
    "    ax2.set_ylabel('$T$ [K]', color = 'r')\n",
    "    ax1.grid()\n",
    "    \n",
    "# textbox with initial conditions\n",
    "    text = f\"\"\"\n",
    "    Initial conditions:\n",
    "      {'$R_E$':<25} {1e6*cpar.R_E: .2f}  $[\\mu m]$\n",
    "      {'$R_0/R_E$':<25} {cpar.ratio: .2f}  $[-]$\n",
    "      {'$P_∞$':<25} {1e-5*cpar.P_inf: .2f}  $[bar]$\n",
    "      {'$α_M$':<25} {cpar.alfa_M: .2f}  $[-]$\n",
    "      {'$T_∞$':<25} {T_inf-273.15: .2f}  $[°C]$\n",
    "      {'$P_{vapour}$':<25} {P_v: .1f}  $[Pa]$\n",
    "      {'$surfactant$':<25} {surfactant: .2f}  $[-]$\n",
    "    \"\"\"\n",
    "    ax1.text(\n",
    "        0.75, 0.95, # coordinates\n",
    "        text, transform=ax1.transAxes, horizontalalignment='left',\n",
    "        verticalalignment='top', fontsize=16, fontstyle='oblique',\n",
    "        bbox={'facecolor': 'white', 'alpha': 1.0, 'pad': 10},\n",
    "    )\n",
    "    \n",
    "    plt.show()\n",
    "    #if saveit:\n",
    "    #    fig.savefig('images/plot_R.png')\n",
    "\n",
    "# plot reactions\n",
    "    fig = plt.figure(figsize=(20, 9))\n",
    "    ax = fig.add_subplot(axisbelow=True)\n",
    "\n",
    "    plt.ylim([1e-23, 1e-11])\n",
    "    ax.set_yscale('log')\n",
    "    #O,    H,    H2,     OH,   O2,      H2O,   HO2, H2O2,   O3,  OH_ex\n",
    "    for i, element in enumerate(par.species):\n",
    "        ax.plot(t, n[i], label = '$' + element + '$', linewidth = 1.0)\n",
    "\n",
    "    ax.set_xlabel('$t$ [s]')\n",
    "    ax.set_ylabel('$n_k$ [mol]')\n",
    "    ax.grid()\n",
    "    ax.legend()\n",
    "\n",
    "    plt.show()\n",
    "    #if saveit:\n",
    "    #    fig.savefig('images/plot_mol.png')\n",
    "    \n",
    "# usage:\n",
    "plot(cpar)"
   ]
  },
  {
   "cell_type": "code",
   "execution_count": null,
   "metadata": {},
   "outputs": [],
   "source": []
  }
 ],
 "metadata": {
  "kernelspec": {
   "display_name": "Python 3",
   "language": "python",
   "name": "python3"
  },
  "language_info": {
   "codemirror_mode": {
    "name": "ipython",
    "version": 3
   },
   "file_extension": ".py",
   "mimetype": "text/x-python",
   "name": "python",
   "nbconvert_exporter": "python",
   "pygments_lexer": "ipython3",
   "version": "3.8.5"
  }
 },
 "nbformat": 4,
 "nbformat_minor": 4
}
