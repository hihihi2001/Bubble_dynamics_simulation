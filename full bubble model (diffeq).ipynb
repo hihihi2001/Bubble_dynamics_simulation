{
 "cells": [
  {
   "cell_type": "markdown",
   "metadata": {
    "tags": []
   },
   "source": [
    "# Full mathematical model of a single bubble\n",
    "### About the model\n",
    "The mathematical model of a sonochemical bubble can be separated\n",
    "into two main parts: physical and chemical. The physical part of the\n",
    "model describes the temporal evolution of the bubble radius, temperature\n",
    "and pressure, while the chemical part focuses on the chemical\n",
    "processes and the rates of the chemical reactions.\n",
    "\n",
    "The model uses concentrated parameters to describe the bubble: the\n",
    "bubble radius, its derivative, the inner temperature, and molar concentrtations of\n",
    "chemical species. There are K different species and I reactions between them.\n",
    "### The differential equation\n",
    "A system of first degree ordinary differencial equations can be written as: <br>\n",
    "$\\frac{d}{dt}\\underline{x}=\\underline{f}(\\underline{x}, t)$ <br>\n",
    "> $t\\in\\mathbb{R}$ <br>\n",
    "> $\\dot{\\underline{x}},\\ \\underline{x}\\in\\mathbb{R}^{3+K}$ <br>\n",
    "> $\\underline{f}: \\mathbb{R}^{4+K}\\rightarrow\\mathbb{R}^{3+K}$ <br>\n",
    "\n",
    "Here <br>\n",
    "$\\underline{x}=\\left(R,\\dot{R},\\ T,\\ c_1,c_2,\\ldots c_K\\right)$\n",
    "> R: bubble radius [m] <br>\n",
    "> R_dot: d/dt(bubble radius) [m/s] <br>\n",
    "> T: temperature [K] <br>\n",
    "> c[1..K]: molar concentration of species [mol/cm^3] <br>"
   ]
  },
  {
   "cell_type": "code",
   "execution_count": 221,
   "metadata": {},
   "outputs": [],
   "source": [
    "\"\"\"Libraries\"\"\"\n",
    "\n",
    "# for plotting:\n",
    "%matplotlib inline\n",
    "import matplotlib.pyplot as plt\n",
    "plt.rcParams.update({'font.size': 18})\n",
    "\n",
    "import numpy as np   # matrices, math\n",
    "from scipy.integrate import solve_ivp   # differential equation solver\n",
    "from scipy.signal import argrelmin   # loc min finding\n",
    "import time   # runtime measurement\n",
    "from numba import jit, njit   # Just In Time compiler\n",
    "from numba.types import unicode_type, float64, float32, int64, int32   # JIT types\n",
    "import importlib   # For reloading your own files\n",
    "\n",
    "# my own files:\n",
    "import chemkin_AR_HE as par   # numeric constants and coefficents\n",
    "importlib.reload(par)   # reload changes you made\n",
    "\n",
    "# dot.notation access to dictionary attributes\n",
    "# instead of dictionary['key'] you can use dictionary.key\n",
    "class dotdict(dict):\n",
    "    __getattr__ = dict.get\n",
    "    __setattr__ = dict.__setitem__\n",
    "    __delattr__ = dict.__delitem__"
   ]
  },
  {
   "cell_type": "markdown",
   "metadata": {},
   "source": [
    "## Before the simulation\n",
    "\n",
    "### Saturated vapour pressure\n",
    "The saturated vapout pressure is an unique control parameter, as it is calculated from the ambient temperature via the Arden Buck equation:\n",
    "$p_v\\left(T\\right)=611.21\\exp{\\left(\\left(18.678-\\frac{T}{234.5}\\right)\\frac{T}{257.14+T}\\right)}$ <br>\n",
    "> T: temperature [°C] <br>\n",
    "> p_v: saturated vapout pressure [Pa]\n",
    "\n",
    "### Initial conditions\n",
    "The initial values can be written as: <br>\n",
    "$\\underline{x}\\left(0\\right)=\\underline{x}_{0}=\\left(R_0,\\ \\dot{R_0},\\ T_0,c_{10},\\ \\ldots c_{K0}\\right)$ <br>\n",
    "Where <br>\n",
    "$R_0=R_E$ <br>\n",
    "> R_E: equilibrium radius [m]\n",
    "\n",
    "$\\dot{R_0}=0$ <br>\n",
    "$T_0=T_{\\infty}$ <br>\n",
    "> T_inf: ambient temperature [K]\n",
    "\n",
    "In equilibrium state the pressure inside the bubble: <br>\n",
    "$p_E=p_{\\infty}+\\frac{2 \\sigma}{R_E}=p_{H_2O}+p_{Ar}$ <br>\n",
    "> sigma: surface tension [N/m], in the code multiplied with surfactant modifier <br>\n",
    "> p_H2O=p_v <br>\n",
    "\n",
    "From that, p_Ar can be calculated, and thus the amount of argon: <br>\n",
    "$n_{Ar}=\\frac{p_{Ar} V_E}{R_g T_{\\infty}}$ <br>\n",
    "> $V_E=\\frac{4}{3}R_E^3 \\pi$ <br>\n",
    "> R_g: universal gas constant [J/mol/K]  <br>\n",
    "\n",
    "Isotermic expansion from $R_E$ to $R_0=ratio \\cdot R_E$: <br>\n",
    "\n",
    "$p_{0, H_2O}=p_{H_2O}$ <br>\n",
    "$n_{0, Ar}=n_{Ar}$ <br>\n",
    "$n_{0, H_2O}=\\frac{p_{H_2O} V_0}{R_g T_{\\infty}}$ <br>\n",
    "$c=\\frac{n_0}{V_0}$ both for water and argon <br>\n",
    "\n",
    "### Expansion work\n",
    "$W=-W_{gas}+W_{surface\\ tension}+W_{volume}$ <br>\n",
    "$W=-\\int_{V_E}^{V_0}p\\ dV + [4 \\pi R^2 \\sigma]_{R_E}^{R_0} + [\\frac{4}{3} \\pi R^3 P_{\\infty}]_{R_E}^{R_0}$ <br>\n",
    "where <br>\n",
    "$-\\int_{V_E}^{V_0}p\\ dV= -\\int_{V_E}^{V_0} p_{H_2O} + \\frac{n_{Ar}R_g T_{\\infty}}{V} \\ dV$\n",
    "$=-\\left[ p_{H2O} V + n_{Ar}R_g T_{\\infty} ln|V| \\right]_{V_E}^{V_0}$"
   ]
  },
  {
   "cell_type": "code",
   "execution_count": 222,
   "metadata": {},
   "outputs": [],
   "source": [
    "# You should store the control parameters in a dictionary:\n",
    "cpar = dotdict(dict(\n",
    "    ID=0,\n",
    "    R_E=3e-6, # [m]\n",
    "    ratio=20.0, # [-]\n",
    "    P_inf=50e5, # [Pa]\n",
    "    alfa_M=0.05, # [-]\n",
    "    T_inf=303.15, # [m]\n",
    "    surfactant=0.25, # [-]\n",
    "))"
   ]
  },
  {
   "cell_type": "code",
   "execution_count": 223,
   "metadata": {},
   "outputs": [
    {
     "data": {
      "text/plain": [
       "4245.12571625229"
      ]
     },
     "execution_count": 223,
     "metadata": {},
     "output_type": "execute_result"
    }
   ],
   "source": [
    "def VapourPressure(T): # [K]\n",
    "    T -= 273.15 # [°C]\n",
    "    return 611.21 * np.exp( (18.678 - T / 234.5) * (T / (257.14 + T)) ) # [Pa]\n",
    "\n",
    "# usage:\n",
    "cpar.P_v = VapourPressure(T=cpar.T_inf) # [Pa]\n",
    "cpar.P_v"
   ]
  },
  {
   "cell_type": "code",
   "execution_count": 248,
   "metadata": {},
   "outputs": [
    {
     "data": {
      "text/plain": [
       "array([6.00000000e-05, 0.00000000e+00, 3.03150000e+02, 0.00000000e+00,\n",
       "       0.00000000e+00, 0.00000000e+00, 0.00000000e+00, 0.00000000e+00,\n",
       "       1.68422045e-06, 0.00000000e+00, 0.00000000e+00, 0.00000000e+00,\n",
       "       2.48348202e-07, 0.00000000e+00, 0.00000000e+00])"
      ]
     },
     "execution_count": 248,
     "metadata": {},
     "output_type": "execute_result"
    }
   ],
   "source": [
    "def InitialCondition(cpar):\n",
    "    IC = np.zeros((par.K+3), dtype=np.float64)\n",
    "    R_0 = cpar.ratio * cpar.R_E\n",
    "    \n",
    "    # Equilibrium state\n",
    "    p_E = cpar.P_inf + 2 * cpar.surfactant * par.sigma / cpar.R_E # [Pa]\n",
    "    V_E = 4.0 / 3.0 * cpar.R_E**3 * np.pi # [m^3]\n",
    "    p_gas = p_E - cpar.P_v\n",
    "    n_gas = p_gas * V_E / (par.R_g * cpar.T_inf) # [mol]\n",
    "    \n",
    "    # Isotermic expansion\n",
    "    V_0 = 4.0 / 3.0 * R_0**3 * np.pi    # [m^3]\n",
    "    n_H2O = cpar.P_v * V_0 / (par.R_g * cpar.T_inf) # [mol]\n",
    "    c_H2O = n_H2O / V_0    # [mol/m^3]\n",
    "    c_gas = n_gas / V_0    # [mol/m^3]\n",
    "\n",
    "    # Initial conditions\n",
    "    IC[0] = R_0   # R_0 [m]\n",
    "    IC[1] = 0.0    # dRdt_0 [m/s]\n",
    "    IC[2] = cpar.T_inf   # T_0 [K]\n",
    "    IC[3 + par.indexOfWater] = c_H2O * 1.0e-6    # [mol/cm^3]\n",
    "    IC[3 + par.indexOfArgon] = c_gas * 1.0e-6    # [mol/cm^3]\n",
    "\n",
    "    return IC\n",
    "\n",
    "# usage:\n",
    "IC = InitialCondition(cpar)\n",
    "IC"
   ]
  },
  {
   "cell_type": "code",
   "execution_count": 225,
   "metadata": {},
   "outputs": [
    {
     "data": {
      "text/plain": [
       "4.515209424703302e-06"
      ]
     },
     "execution_count": 225,
     "metadata": {},
     "output_type": "execute_result"
    }
   ],
   "source": [
    "def Work(cpar):\n",
    "    R_0 = cpar.ratio * cpar.R_E # [m]\n",
    "    V_E = 4.0 / 3.0 * cpar.R_E**3 * np.pi    # [m^3]\n",
    "    V_0 = 4.0 / 3.0 * R_0**3 * np.pi  # [m^3]\n",
    "    \n",
    "    p_E = cpar.P_inf + 2 * cpar.surfactant * par.sigma / cpar.R_E # [Pa]\n",
    "    p_gas = p_E - cpar.P_v # [Pa]\n",
    "    n_gas = p_gas * V_E / (par.R_g * cpar.T_inf) # [mol]\n",
    "    \n",
    "    W_gas0 = -(cpar.P_v * V_0 + n_gas * par.R_g * cpar.T_inf * np.log(V_0))\n",
    "    W_gasE = -(cpar.P_v * V_E + n_gas * par.R_g * cpar.T_inf * np.log(V_E))\n",
    "    W_gas = W_gas0 - W_gasE # [J]\n",
    "    \n",
    "    W_surface_tension = par.sigma * cpar.surfactant *  4.0 * np.pi * (R_0**2 - cpar.R_E**2) # [J]\n",
    "    W_flow = cpar.P_inf * 4.0 / 3.0 * np.pi * (R_0**3 - cpar.R_E**3) # [J]\n",
    "    return W_gas + W_surface_tension + W_flow    # [J]\n",
    "\n",
    "# usage\n",
    "Work(cpar) # [J]"
   ]
  },
  {
   "cell_type": "markdown",
   "metadata": {},
   "source": [
    "## Pressures\n",
    "In the Keller Miksis equation you will <br>\n",
    "$\\delta=\\frac{p_L-p_\\infty}{\\rho_L}$ <br>\n",
    "$\\dot{\\delta}=\\frac{\\dot{p_L}-\\dot{p_\\infty}}{\\rho_L}$ <br>\n",
    "where <br>\n",
    "$p_L=p-\\frac{2\\sigma}{R}-4\\mu_L\\frac{\\dot{R}}{R}$ <br>\n",
    "$p=M R_g T$ <br>\n",
    "> p: internal pressure [Pa] <br>\n",
    "> rho_L: density ofdensity of water [kg/m^3] <br>\n",
    "> mu_L: dynamic viscosity of the liquid [Pa*s] <br>\n",
    "> M: the total concentration of the mixtureis the total concentration of the mixture [mol/cm^3] <br>\n",
    "\n",
    "$\\dot{p_L}=\\dot{p}-\\frac{2\\sigma\\dot{R}}{R^2}+4\\mu_L\\frac{{\\dot{R}}^2}{R^2}$ <br>\n",
    "$\\dot{p}=p\\left(\\frac{1}{M}\\sum_{\\left(k=1\\right)}^{K}{\\dot{\\omega}}_k+\\frac{\\dot{T}}{T}-3\\frac{\\dot{R}}{R}\\right)$ <br>\n",
    "(In $\\dot{p_L}$ there is no $\\ddot{R}$ here)\n",
    "\n",
    "$p_\\infty=P_\\infty=const$ <br>\n",
    "$\\dot{p_\\infty}=0$ <br>\n",
    "> P_inf: ambient pressure [Pa] <br>\n",
    "\n",
    "(This part would have the harmonic ultrasound excitation: $p_\\infty=P_\\infty+p_A sin(2 \\pi f t)$) <br>"
   ]
  },
  {
   "cell_type": "code",
   "execution_count": 226,
   "metadata": {},
   "outputs": [
    {
     "data": {
      "text/plain": [
       "array([-5016.15298092,     0.        ])"
      ]
     },
     "execution_count": 226,
     "metadata": {},
     "output_type": "execute_result"
    }
   ],
   "source": [
    "@njit(float64[:](float64, float64, float64, float64, float64, float64, float64, float64))\n",
    "def Pressure(R, R_dot, T, T_dot, M, sum_omega_dot, P_inf, surfactant):\n",
    "    p_inf = P_inf\n",
    "    p_inf_dot = 0.0\n",
    "    p = 0.1 * M * par.R_erg * T\n",
    "    p_dot = p * (sum_omega_dot / M + T_dot / T - 3.0 * R_dot/R)\n",
    "    p_L = p - (2.0 * surfactant * par.sigma + 4.0 * par.mu_L * R_dot) / R\n",
    "    p_L_dot = p_dot + (-2.0 * surfactant * par.sigma * R_dot + 4.0 * par.mu_L * R_dot ** 2) / (R ** 2)\n",
    "    delta = (p_L - p_inf) / par.rho_L\n",
    "    delta_dot = (p_L_dot - p_inf_dot) / par.rho_L\n",
    "    return np.array([delta, delta_dot])\n",
    "\n",
    "# usage:\n",
    "Pressure(R=cpar.R_E, R_dot=0.0, T=cpar.T_inf, T_dot=0.0, M=np.sum(IC[3:]), sum_omega_dot=0.0, P_inf=cpar.P_inf, surfactant=cpar.surfactant)"
   ]
  },
  {
   "cell_type": "markdown",
   "metadata": {},
   "source": [
    "## NASA polynomials\n",
    "Various thermodynamic quantities (heat capacities, enthalpies, entropies)\n",
    "are calculated using the NASA chemical equilibrium code. <br>\n",
    "This assumes that these properties are the functions of temperature only\n",
    "and they are given in terms of polynomial. <br>\n",
    "NASA polynomials have different sets of $a_{n,\\ k}$ coefficients for\n",
    "intervals [T_low, T_mid] and [T_mid,T_high]. <br>\n",
    "If T < Tlow or T > Thigh, the values for\n",
    "the low or high bound are used (this is T_act), respectively. <br>\n",
    "Consequently, (N+2)⋅2 = 14 coefficients belong to each chemical component. <br>\n",
    "\n",
    "Molar heat capacities at constant pressure (isobaric) [erg/mol/K] <br>\n",
    "$C_{p,\\ k}=R_g\\left(\\sum_{n=1}^{5}{a_{n,\\ k}T^{n-1}}\\right)$ <br>\n",
    "\n",
    "Molar heat capacities at constant volume (isochoric) [erg/mol/K] <br>\n",
    "$C_{V,k}=C_{p,k}-R_g$ <br>\n",
    "\n",
    "Enthalpies [erg/mol] <br>\n",
    "$H_k=R_g\\left(T\\sum_{n=1}^{5}\\frac{a_{n,\\ k}T^{n-1}}{n}+a_{6,k}\\right)$ <br>\n",
    "\n",
    "Entropies [erg/mol/K] <br>\n",
    "$S_k=R_g\\left(a_{1,k}\\ln{T}+\\sum_{n=2}^{5}\\frac{a_{n,\\ k}T^{n-1}}{n}{+a}_{7,k}\\right)$"
   ]
  },
  {
   "cell_type": "code",
   "execution_count": 249,
   "metadata": {},
   "outputs": [
    {
     "data": {
      "text/plain": [
       "array([2.07861500e+08, 2.88749448e+08, 2.18816358e+08, 2.94052705e+08,\n",
       "       2.98639722e+08, 3.36119824e+08, 2.91275480e+08, 3.49930572e+08,\n",
       "       4.26069205e+08, 2.07861500e+08, 2.07861500e+08, 2.99214322e+08])"
      ]
     },
     "execution_count": 249,
     "metadata": {},
     "output_type": "execute_result"
    }
   ],
   "source": [
    "# Corrects the temperature if it's not in the [T_low, T_high] intervall\n",
    "@njit(float64(int32, float64))\n",
    "def getT_act(k, T):\n",
    "    if T < par.TempRange[k][0]: # T < T_low --> T_low\n",
    "        return par.TempRange[k][0]\n",
    "    elif T > par.TempRange[k][1]: # T > T_high --> T_high\n",
    "        return par.TempRange[k][1]\n",
    "    else:\n",
    "        return T # T_low < T < T_high --> T\n",
    "\n",
    "# Returns the right set of NASA coefficents\n",
    "@njit(float64[:](int32, float64))\n",
    "def getCoeffs(k, T_act):\n",
    "    a = np.zeros((7), dtype=np.float64)\n",
    "    if T_act <= par.TempRange[k][2]: # T_act <= T_mid\n",
    "        a = par.a_low[k]\n",
    "    else:  # T_mid < T_act\n",
    "        a = par.a_high[k]\n",
    "    return a\n",
    "\n",
    "# returns molar heat capacities, enthalpies and entropies\n",
    "@njit(float64[:, :](float64[:], float64))\n",
    "def Thermodynamic(c, T):\n",
    "    ret = np.zeros((4, par.K), dtype=np.float64)   # [C_p, H, S, C_v]\n",
    "    exponent = np.array([1, 2, 3, 4, 5])\n",
    "    for k in range(par.K):\n",
    "    # get coefficients for T\n",
    "        T_act = getT_act(k, T)\n",
    "        a = getCoeffs(k, T_act)\n",
    "            \n",
    "     # calculate\n",
    "        T_vec = T_act ** (exponent-1)    # [1, T, T^2, T^3, T^4]\n",
    "        # Molar heat capacities at constant pressure (isobaric) [erg/mol/K]\n",
    "        ret[0][k] = par.R_erg * np.sum(a[:par.N] * T_vec)\n",
    "        # Enthalpies [erg/mol]\n",
    "        ret[1][k] = par.R_erg * T_act * (np.sum(a[:par.N] * T_vec / exponent) + a[par.N] / T_act)\n",
    "        # Entropies [erg/mol/K]\n",
    "        ret[2][k] = par.R_erg * (a[0] * np.log(T_act) + np.sum(a[1:par.N] * T_vec[1:] / (exponent[1:]-1)) + a[par.N+1])\n",
    "    # Molar heat capacities at constant volume (isochoric) [erg/mol/K]\n",
    "    ret[3] = ret[0] - par.R_erg \n",
    "    return ret\n",
    "\n",
    "# usage:\n",
    "[C_p, H, S, C_v] = Thermodynamic(c=IC[3:], T=cpar.T_inf)\n",
    "C_p"
   ]
  },
  {
   "cell_type": "markdown",
   "metadata": {},
   "source": [
    "## Evaporation\n",
    "The evaporation and condensation of water are considered as a net\n",
    "substance flow rate into the liquid. <br>\n",
    "${\\dot{n}}_{net}={\\dot{n}}_{eva}-{\\dot{n}}_{con}$ <br>\n",
    "${\\dot{n}}_{eva}=\\frac{\\alpha_Mp_v}{W_{H_2O}\\sqrt{2\\pi R_vT_\\infty}\\ }$ <br>\n",
    "${\\dot{n}}_{con}=\\frac{\\alpha_Mp_{H_2O}}{W_{H_2O}\\sqrt{2\\pi R_vT}\\ }$ <br>\n",
    "$p_{H_2O}=X_{H_2O}\\cdot p$ <br>\n",
    "> alfa_M: accommodation coefficient for the evaporation [-] <br>\n",
    "> p_v: saturated vapout pressure [Pa] <br>\n",
    "> W_H2O: the molecular weight of water [g/mol] <br>\n",
    "> R_v: is the specific gas constant of water [J/kg/K] <br>\n",
    "\n",
    "The energy carried by evaporation is similarly <br>\n",
    "$e_{net}=e_{eva}-e_{con}$ <br>\n",
    "$e_{eva}={\\dot{n}}_{eva}C_{V,\\ {\\ H}_2O}^\\infty T_\\infty$ <br>\n",
    "$e_{con}={\\dot{n}}_{con}C_{V,\\ {\\ H}_2O}T$ <br>\n",
    "> C_v: Molar heat capacities at constant volume at T [erg/mol/K] <br>\n",
    "> C_v_inf: Molar heat capacities at constant volume at T_inf [erg/mol/K] <br>"
   ]
  },
  {
   "cell_type": "code",
   "execution_count": 251,
   "metadata": {},
   "outputs": [
    {
     "data": {
      "text/plain": [
       "array([-3.57522419e+00, -1.20791005e+05])"
      ]
     },
     "execution_count": 251,
     "metadata": {},
     "output_type": "execute_result"
    }
   ],
   "source": [
    "@njit(float64[:](float64, float64, float64, float64, float64, float64))\n",
    "def Evaporation(M, T, X_H2O, alfa_M, T_inf, P_v):\n",
    "# condensation and evaporation\n",
    "    p = 0.1 * M * par.R_erg * T\n",
    "    p_H2O = X_H2O * p\n",
    "    n_eva_dot = 1.0e3 * alfa_M * P_v / (par.W[par.indexOfWater] * np.sqrt(2.0 * np.pi * par.R_v * T_inf)) # W_H2O=par.W[5] is in g/mol --> *1000\n",
    "    n_con_dot = 1.0e3 * alfa_M * p_H2O / (par.W[par.indexOfWater] * np.sqrt(2.0 * np.pi * par.R_v * T))\n",
    "    n_net_dot = n_eva_dot - n_con_dot\n",
    "# Molar heat capacity of water at constant volume (isochoric) [erg/mol/K]\n",
    "    exponent = np.array([1, 2, 3, 4, 5])\n",
    "    T_act = getT_act(5, T)\n",
    "    a = getCoeffs(5, T)\n",
    "    T_vec = T_act ** (exponent-1)    # [1, T, T^2, T^3, T^4]\n",
    "    C_v = par.R_erg * (np.sum(a[:par.N] * T_vec) - 1.0)\n",
    "    T_act = getT_act(5, T_inf); a = getCoeffs(5, T_inf)\n",
    "    T_vec = T_act ** (exponent-1)    # [1, T, T^2, T^3, T^4]\n",
    "    C_v_inf = par.R_erg * (np.sum(a[:par.N] * T_vec) - 1.0)\n",
    "# Evaporation energy\n",
    "    e_eva = C_v_inf * T_inf * 1e-7   # [J/mol]\n",
    "    e_con = C_v * T * 1e-7\n",
    "    evap_energy = n_eva_dot * e_eva - n_con_dot * e_con    # [W/m^2]\n",
    "    return np.array([n_net_dot, evap_energy])\n",
    "\n",
    "# usage:\n",
    "X_H2O = IC[3+par.indexOfWater] / np.sum(IC[3:])\n",
    "Evaporation(M=np.sum(IC[3:]), T=500.0, X_H2O=X_H2O, alfa_M=cpar.alfa_M, T_inf=cpar.T_inf, P_v=cpar.P_v)"
   ]
  },
  {
   "cell_type": "markdown",
   "metadata": {},
   "source": [
    "## Reactionrates"
   ]
  },
  {
   "cell_type": "code",
   "execution_count": 252,
   "metadata": {},
   "outputs": [
    {
     "data": {
      "text/plain": [
       "array([4.44122182e+08, 1.61727778e+09, 4.34136164e+10, 1.57026291e+11,\n",
       "       2.92160787e+15, 3.54082363e+14, 1.55500577e+16, 6.74083507e+17,\n",
       "       3.59385244e+11, 1.44875851e+12, 5.00467744e+13, 3.25000000e+13,\n",
       "       2.33475789e+13, 5.07449204e+11, 3.65802250e+09, 2.72199022e+11,\n",
       "       8.73951754e+11, 6.19709720e+11, 3.18265037e+10, 1.33401928e+12,\n",
       "       1.74848022e+11, 1.01868550e+11, 2.11804360e+14, 7.44313474e+13,\n",
       "       5.30779533e+12, 1.98117882e+14, 2.62240183e+13, 5.33932260e+10,\n",
       "       5.45116450e+13])"
      ]
     },
     "execution_count": 252,
     "metadata": {},
     "output_type": "execute_result"
    }
   ],
   "source": [
    "@njit(float64[:](float64, float64[:]))\n",
    "def ForwardRate(T, M_eff):\n",
    "# Reaction rate, equation 21\n",
    "    k_forward = par.A * T ** par.b * np.exp(-par.E / (par.R_cal * T))\n",
    "    \n",
    "# Pressure dependent reactions, equations 35-43\n",
    "    for j, i in enumerate(par.PressureDependentIndexes):    # i is the number of reaction, j is the index of i's place in par.PressureDependentIndexes\n",
    "        k_inf = k_forward[i]    # par.A[i] * T ** par.b[i] * np.exp(-par.E[i] / (par.R_cal * T))\n",
    "        k_0 = par.ReacConst[j][0] * T ** par.ReacConst[j][1] * np.exp(-par.ReacConst[j][2] / (par.R_cal * T))\n",
    "        P_r = k_0 / k_inf * M_eff[i]\n",
    "        logP_r = np.log10(P_r)\n",
    "        \n",
    "        # Keep in mind, some T** values are not used (if they are 0.0, not here)\n",
    "        F_cent = (1.0 - par.Troe[j][0]) * np.exp(-T / par.Troe[j][1]) + par.Troe[j][0] * np.exp(-T / par.Troe[j][2]) + np.exp(-par.Troe[j][3] / T)\n",
    "        logF_cent = np.log10(F_cent)\n",
    "        c = -0.4 - 0.67 * logF_cent\n",
    "        n = 0.75 - 1.27 * logF_cent\n",
    "        d = 0.14\n",
    "        logF = 1.0 / (1.0 + ((logP_r + c) / (n - d * (logP_r + c))) ** 2) * logF_cent\n",
    "        F = 10.0 ** logF\n",
    "        \n",
    "        k_forward[i] = k_inf * P_r / (1.0 + P_r) * F\n",
    "    return k_forward\n",
    "\n",
    "# usage:\n",
    "M_eff = np.sum(IC[3:]) * np.ones((par.I))    # M_eff: effective total concentration of the third-body species\n",
    "for j, i in enumerate(par.ThirdBodyIndexes):\n",
    "    M_eff[i] = np.sum(par.alfa[j] * IC[3:]) \n",
    "k_f = ForwardRate(T=cpar.T_inf, M_eff=M_eff)\n",
    "k_f"
   ]
  },
  {
   "cell_type": "code",
   "execution_count": 253,
   "metadata": {},
   "outputs": [
    {
     "data": {
      "text/plain": [
       "array([1.39298857e+19, 8.18795868e+09, 4.71091411e+00, 3.36558507e+00,\n",
       "       3.81133343e-62, 7.45598881e-73, 1.02701798e-60, 9.54218740e-70,\n",
       "       8.58414036e-27, 7.91251324e-28, 4.34040895e-15, 8.98654664e-26,\n",
       "       1.38369230e-36, 1.05464111e-15, 7.60253612e-18, 1.55804749e-25,\n",
       "       2.16136229e-39, 1.62852578e-01, 4.23434543e-02, 3.80406263e-11,\n",
       "       4.98593112e-12, 4.15931402e+01, 3.42609460e-53, 1.20398295e-53,\n",
       "       8.58575759e-55, 3.20470555e-53, 4.24193192e-54, 8.63675532e-57,\n",
       "       8.81766799e-54])"
      ]
     },
     "execution_count": 253,
     "metadata": {},
     "output_type": "execute_result"
    }
   ],
   "source": [
    "# FinalUson2022.pdf equation 28-32\n",
    "@njit(float64[:](float64[:], float64[:], float64[:], float64, float64))\n",
    "def BackwardRate(k_forward, S, H, T, P_inf):\n",
    "    DeltaS = np.sum(par.nu * S, axis=1)\n",
    "    DeltaH = np.sum(par.nu * H, axis=1)\n",
    "    K_p = np.exp(DeltaS / par.R_erg - DeltaH / (par.R_erg * T))\n",
    "    K_c = K_p * (P_inf * 10.0 / (par.R_erg * T)) ** np.sum(par.nu, axis=1)\n",
    "    k_backward = k_forward / K_c\n",
    "    return k_backward\n",
    "\n",
    "# usage:\n",
    "k_b = BackwardRate(k_forward=k_f, S=S, H=H, T=cpar.T_inf, P_inf=cpar.T_inf)\n",
    "k_b"
   ]
  },
  {
   "cell_type": "code",
   "execution_count": 254,
   "metadata": {},
   "outputs": [
    {
     "data": {
      "text/plain": [
       "array([ 5.3822353e-76,  0.0000000e+00,  0.0000000e+00,  0.0000000e+00,\n",
       "        5.3822353e-76, -5.3822353e-76,  0.0000000e+00,  0.0000000e+00,\n",
       "        0.0000000e+00,  0.0000000e+00,  0.0000000e+00,  0.0000000e+00])"
      ]
     },
     "execution_count": 254,
     "metadata": {},
     "output_type": "execute_result"
    }
   ],
   "source": [
    "@njit(float64[:](float64, float64[:], float64[:], float64[:], float64))\n",
    "def ProductionRate(T, H, S, c, P_inf):\n",
    "# equation 34\n",
    "    M_eff = np.sum(c) * np.ones((par.I))    # effective total concentration of the third-body species\n",
    "    for j, i in enumerate(par.ThirdBodyIndexes):\n",
    "        M_eff[i] = np.sum(par.alfa[j] * c) \n",
    "    \n",
    "    k_forward = ForwardRate(T=T, M_eff=M_eff)\n",
    "    k_backward = BackwardRate(k_forward=k_forward, S=S, H=H, T=T, P_inf=P_inf)\n",
    "\n",
    "# Net rate, equation 23\n",
    "    q = np.zeros((par.I))\n",
    "    for i in range(par.I):\n",
    "        q[i] = k_forward[i] * np.prod(c ** par.nu_forward[i]) - k_backward[i] * np.prod(c ** par.nu_backward[i])\n",
    "# Three body reactions, equation 33-34\n",
    "    for j, i in enumerate(par.ThirdBodyIndexes):    # i is the number of reaction, j is the index of i in par.ThirdBodyIndexes\n",
    "        if i not in par.PressureDependentIndexes:\n",
    "            q[i] *= M_eff[i]\n",
    "# Production rate, equation 24\n",
    "    omega_dot = np.zeros((par.K))\n",
    "    for k in range(par.K):\n",
    "        omega_dot[k] = np.sum(par.nu[:, k] * q)\n",
    "    \n",
    "    return omega_dot\n",
    "\n",
    "# usage:\n",
    "ProductionRate(T=cpar.T_inf, H=H, S=S, c=IC[3:], P_inf=cpar.P_inf)"
   ]
  },
  {
   "cell_type": "markdown",
   "metadata": {},
   "source": [
    "## Differencial equation\n",
    "The sum of each concentration <br>\n",
    "$M=\\sum_{k=1}^{K}c_k$ <br>\n",
    "\n",
    "Mole fraction of component k <br>\n",
    "$X_k=\\frac{c_k}{M}$\n",
    "\n",
    "> c_L: sound speed in water [m/s] <br>"
   ]
  },
  {
   "cell_type": "code",
   "execution_count": 255,
   "metadata": {},
   "outputs": [
    {
     "data": {
      "text/plain": [
       "array([ 0.00000000e+00, -8.34085301e+07,  3.18395299e-08,  5.38223530e-76,\n",
       "        0.00000000e+00,  0.00000000e+00,  0.00000000e+00,  5.38223530e-76,\n",
       "        1.77635684e-16,  0.00000000e+00,  0.00000000e+00,  0.00000000e+00,\n",
       "        0.00000000e+00,  0.00000000e+00,  0.00000000e+00])"
      ]
     },
     "execution_count": 255,
     "metadata": {},
     "output_type": "execute_result"
    }
   ],
   "source": [
    "enable_heat_transfer = True\n",
    "enable_evaporation = True\n",
    "enable_evap_energy = True\n",
    "enable_reactions = True\n",
    "\n",
    "@njit(float64[:](float64, float64[:], float64, float64, float64, float64, float64))\n",
    "def f(t, x, alfa_M, T_inf, P_v, P_inf, surfactant):    \n",
    "    R = x[0]      # bubble radius [m]\n",
    "    R_dot = x[1]  # [m/s]\n",
    "    T = x[2]      # temperature [K]\n",
    "    c = x[3:]     # molar concentration [mol/cm^3]\n",
    "    M = np.sum(c) # sum of concentration\n",
    "    X = c / M     # mole fraction [-]\n",
    "    dxdt = np.zeros(x.shape, dtype = np.float64)\n",
    "    \n",
    "# d/dt R\n",
    "    dxdt[0] = R_dot\n",
    "# Evaporation\n",
    "    n_net_dot = 0.0  \n",
    "    evap_energy = 0.0\n",
    "    if enable_evaporation:\n",
    "        n_net_dot, evap_energy = Evaporation(M=M, T=T, X_H2O=X[par.indexOfWater], alfa_M=alfa_M, T_inf=T_inf, P_v=P_v)\n",
    "# Thermodynamics\n",
    "    [C_p, H, S, C_v] = Thermodynamic(c=c, T=T)\n",
    "    W_avg = np.sum(X * par.W)\n",
    "    rho_avg = W_avg * M # or np.sum(c * par.W)\n",
    "    C_p_avg = np.sum(X * C_p)\n",
    "    C_v_avg = np.sum(X * C_v)\n",
    "\n",
    "    lambda_avg = np.sum(X * par.lambdas)\n",
    "    chi_avg = 10.0 * lambda_avg * W_avg / (C_p_avg * rho_avg)\n",
    "    l_th = np.inf\n",
    "    if R_dot != 0.0:\n",
    "        l_th = np.sqrt(R * chi_avg / abs(R_dot))\n",
    "    l_th = min(l_th, R / np.pi)\n",
    "    Q_th_dot = 0.0\n",
    "    if enable_heat_transfer:\n",
    "        Q_th_dot = lambda_avg * (T_inf - T) / l_th\n",
    "# d/dt c\n",
    "    omega_dot = np.zeros((par.K))\n",
    "    if enable_reactions:\n",
    "        omega_dot = ProductionRate(T=T, H=H, S=S, c=c, P_inf=P_inf)\n",
    "    c_dot = omega_dot - c * 3.0 * R_dot / R\n",
    "    c_dot[par.indexOfWater] += 1.0e-6 * n_net_dot * 3.0 / R    # water evaporation\n",
    "    M_dot = np.sum(c_dot)\n",
    "    dxdt[3:] = c_dot\n",
    "# d/dt T\n",
    "    Q_r_dot = -np.sum(H * omega_dot)\n",
    "    p = 0.1 * M * par.R_erg * T\n",
    "    n_t = M * 4.0/3.0 * np.pi * R ** 3    # molar concentration\n",
    "    T_dot = (Q_r_dot + 30.0 / R * (-p * R_dot + Q_th_dot + evap_energy)) / (M * C_v_avg)\n",
    "    dxdt[2] = T_dot\n",
    "# d/dt R_dot\n",
    "    [delta, delta_dot] = Pressure(\n",
    "        R=R, R_dot=R_dot, T=T, T_dot=T_dot,\n",
    "        M=M, sum_omega_dot=np.sum(omega_dot),\n",
    "        P_inf=P_inf, surfactant=surfactant\n",
    "    )   # delta = (p_L-p_inf) / rho_L\n",
    "    Nom = (1.0 + R_dot / par.c_L) * delta + R / par.c_L * delta_dot - (1.5 - 0.5 * R_dot / par.c_L) * R_dot ** 2\n",
    "    Den = (1.0 - R_dot / par.c_L) * R + 4.0 * par.mu_L / (par.c_L * par.rho_L)\n",
    "    \n",
    "    dxdt[1] = Nom / Den\n",
    "    \n",
    "    return dxdt\n",
    "\n",
    "# usage:\n",
    "f(t=0.0, x=IC, alfa_M=cpar.alfa_M, T_inf=cpar.T_inf, P_v=cpar.P_v, P_inf=cpar.P_inf, surfactant=cpar.surfactant)"
   ]
  },
  {
   "cell_type": "markdown",
   "metadata": {},
   "source": [
    "## Solving"
   ]
  },
  {
   "cell_type": "code",
   "execution_count": 243,
   "metadata": {},
   "outputs": [
    {
     "data": {
      "text/plain": [
       "  message: 'The solver successfully reached the end of the integration interval.'\n",
       "     nfev: 47228\n",
       "     njev: 1670\n",
       "      nlu: 1670\n",
       "      sol: None\n",
       "   status: 0\n",
       "  success: True\n",
       "        t: array([0.00000000e+00, 1.19891814e-13, 2.39783629e-13, ...,\n",
       "       4.44433744e-01, 7.37256538e-01, 1.00000000e+00])\n",
       " t_events: None\n",
       "        y: array([[ 6.00000000e-005,  6.00000000e-005,  6.00000000e-005, ...,\n",
       "         3.07395560e-006,  3.07395560e-006,  3.07395560e-006],\n",
       "       [ 0.00000000e+000, -9.99999986e-006, -1.99999996e-005, ...,\n",
       "        -1.70111239e-017,  1.11856755e-018,  4.14577671e-018],\n",
       "       [ 3.03150000e+002,  3.03150000e+002,  3.03150000e+002, ...,\n",
       "         3.03150000e+002,  3.03150000e+002,  3.03150000e+002],\n",
       "       ...,\n",
       "       [ 2.48348202e-007,  2.48348202e-007,  2.48348202e-007, ...,\n",
       "         1.84680997e-003,  1.84680997e-003,  1.84680997e-003],\n",
       "       [ 0.00000000e+000,  0.00000000e+000,  0.00000000e+000, ...,\n",
       "         0.00000000e+000,  0.00000000e+000,  0.00000000e+000],\n",
       "       [ 0.00000000e+000,  4.46413787e-160,  1.33922227e-159, ...,\n",
       "        -9.27561915e-053, -3.40454337e-053,  8.83748647e-055]])\n",
       " y_events: None"
      ]
     },
     "execution_count": 243,
     "metadata": {},
     "output_type": "execute_result"
    }
   ],
   "source": [
    "# This funfction solves the differential equation, and returns the numerical solution\n",
    "# Error codes:\n",
    "    # 0: succecfully solved with LSODA solver\n",
    "    # 1: LSODA solver didn't converge, but Radau solver worked\n",
    "    # 2: LSODA solver had a fatal error, but Radau solver worked\n",
    "    # 3: Radau solver didn't converge (NO SOLUTION!)\n",
    "    # 4: Radau solver had a fatal error (NO SOLUTION!)\n",
    "def solve(cpar, t_int=np.array([0.0, 1.0])):\n",
    "    error_code = 0\n",
    "    start = time.process_time()\n",
    "    IC = InitialCondition(cpar)\n",
    "    #f(t, x, alfa_M, T_inf, P_v, P_inf, surfactant)\n",
    "    \n",
    "    try:\n",
    "        num_sol = solve_ivp(f, t_int, IC, method='LSODA', atol = 1e-10, rtol=1e-10, args=(cpar.alfa_M, cpar.T_inf, cpar.P_v, cpar.P_inf, cpar.surfactant))\n",
    "        # docs: https://docs.scipy.org/doc/scipy/reference/generated/scipy.integrate.solve_ivp.html\n",
    "        if num_sol.success == False: error_code = 1\n",
    "    except:\n",
    "        error_code = 2\n",
    "    if error_code != 0:\n",
    "        try:\n",
    "            num_sol = solve_ivp(f, t_int, IC, method='Radau', atol = 1e-10, rtol=1e-10, args=(cpar.alfa_M, cpar.T_inf, cpar.P_v, cpar.P_inf, cpar.surfactant))\n",
    "            if num_sol.success == False: error = 3\n",
    "        except:\n",
    "            error_code = 4\n",
    "    \n",
    "    end = time.process_time()\n",
    "    elapsed_time = (end - start)\n",
    "    \n",
    "    return num_sol, error_code, elapsed_time\n",
    "\n",
    "# usage:\n",
    "num_sol, error_code, elapsed_time = solve(cpar)\n",
    "num_sol"
   ]
  },
  {
   "cell_type": "code",
   "execution_count": 244,
   "metadata": {},
   "outputs": [
    {
     "data": {
      "text/plain": [
       "{'ID': 0,\n",
       " 'R_E': 3e-06,\n",
       " 'ratio': 20.0,\n",
       " 'P_inf': 5000000.0,\n",
       " 'alfa_M': 0.05,\n",
       " 'T_inf': 303.15,\n",
       " 'P_v': 4245.12571625229,\n",
       " 'surfactant': 0.25,\n",
       " 'error_code': 0,\n",
       " 'elapsed_time': 1.84375,\n",
       " 'steps': 14536,\n",
       " 'collapse_time': 8.007919977859432e-07,\n",
       " 'T_max': 4104.537031649485,\n",
       " 'x_final': array([3.07395560e-06, 4.14577671e-18, 3.03150000e+02, 6.93105580e-25,\n",
       "        9.30006586e-05, 8.19396545e-26, 4.61401516e-05, 9.06934257e-26,\n",
       "        1.68422045e-06, 2.46904639e-28, 2.55692884e-11, 7.20317121e-07,\n",
       "        1.84680997e-03, 0.00000000e+00, 8.83748647e-55]),\n",
       " 'n_H2': 1.131533474814806e-14,\n",
       " 'n_O2': 5.613844763285419e-15,\n",
       " 'work': 4.515209424703302e-06,\n",
       " 'energy': 199517.27126067967}"
      ]
     },
     "execution_count": 244,
     "metadata": {},
     "output_type": "execute_result"
    }
   ],
   "source": [
    "# This function gets the numerical solution and the control parameters, and returns some datas about the simulation\n",
    "def getData(cpar, num_sol, error_code, elapsed_time):\n",
    "# copy cpar:\n",
    "    data = dotdict(dict(\n",
    "        ID=cpar.ID,\n",
    "        R_E=cpar.R_E,\n",
    "        ratio=cpar.ratio,\n",
    "        P_inf=cpar.P_inf,\n",
    "        alfa_M=cpar.alfa_M,\n",
    "        T_inf=cpar.T_inf,\n",
    "        P_v=cpar.P_v,\n",
    "        surfactant=cpar.surfactant\n",
    "    ))\n",
    "# runtime and error, return if solving wasn't succesful\n",
    "    data.error_code = error_code\n",
    "    data.elapsed_time = elapsed_time # [s]\n",
    "    data.steps = len(num_sol.t)\n",
    "    \n",
    "    if error_code==3 or error_code==4:\n",
    "        return data\n",
    "    \n",
    "# collapse time (first loc min of R)\n",
    "    loc_min = argrelmin(num_sol.y[:][0])\n",
    "    data.collapse_time = 0.0\n",
    "    if not len(loc_min[0]) == 0:\n",
    "        data.collapse_time = num_sol.t[loc_min[0][0]]\n",
    "# Energy calculations\n",
    "    data.T_max = np.max(num_sol.y[:][2]) # maximum of temperature peaks [K]\n",
    "    data.x_final = num_sol.y[:, -1] # final values of [R, R_dot, T, c_1, ... c_K]\n",
    "    last_V = 4.0 / 3.0 * (100.0 * data.x_final[0]) ** 3 * np.pi # [cm^3]\n",
    "    data.n_H2 = data.x_final[3+par.indexOfHydrogen] * last_V # [mol]\n",
    "    data.n_O2 = data.x_final[3+par.indexOfOxygen] * last_V # [mol]\n",
    "    m_H2 = 1e-3 * data.n_H2 * par.W[par.indexOfHydrogen] # [kg]\n",
    "    data.work = Work(cpar) # [J]\n",
    "    data.energy = 1e-6 * data.work / m_H2 # [MJ/kg]\n",
    "    \n",
    "    return data\n",
    "    \n",
    "# usage:\n",
    "data = getData(cpar, num_sol, error_code, elapsed_time)\n",
    "data"
   ]
  },
  {
   "cell_type": "code",
   "execution_count": 245,
   "metadata": {},
   "outputs": [
    {
     "name": "stdout",
     "output_type": "stream",
     "text": [
      "Control parameters:\n",
      "\tID = 0\n",
      "\tR_E = 3.00 [um]\n",
      "\tratio = 20.00 [-]\n",
      "\tP_inf = 50.00 [bar]\n",
      "\talfa_M = 0.05 [-]\n",
      "\tT_inf = 30.00 [°C]\n",
      "\tP_v = 4245.13 [Pa]\n",
      "\tsurfactant = 0.25 [bar]\n",
      "Simulation info:\n",
      "\terror_code = 0\n",
      "\telapsed_time = 1.84 [s]\n",
      "\tsteps = 14536 [-]\n",
      "Final state:\n",
      "\tR_final = 3.07 [um];   R_dot_final =4.145776711803506e-18 [m/s];   T_final = 303.15 [K]\n",
      "\tn_H2 =1.131533474814806e-14 [mol]; n_O2 =5.613844763285419e-15 [mol]\n",
      "\tFinal molar concentrations: [mol/cm^3]\n",
      "\t\tH: 6.931055800904497e-25;  H_2: 9.300065864100507e-05;  O: 8.1939654501385e-26;  O_2: 4.614015158317344e-05;  \n",
      "\t\tOH: 9.069342568936847e-26;  H_2O: 1.6842204457221416e-06;  N_2: 2.4690463878133987e-28;  HO_2: 2.5569288351682065e-11;  \n",
      "\t\tH_2O_2: 7.203171207247803e-07;  Ar: 0.001846809972581297;  He: 0.0;  OH_{ex}: 8.837486468209274e-55;  \n",
      "\t\t\n",
      "Results:\n",
      "\tcollapse_time = 8.007919977859432e-07 [s]\n",
      "\tT_max = 4104.54 [K]\n",
      "\texpansion work = 4.515209424703302e-06 [J]\n",
      "\thydrogen production = 199517.27 [MJ/kg]\n"
     ]
    }
   ],
   "source": [
    "# This function prints the data dictionary\n",
    "def printData(data):\n",
    "    print(f'Control parameters:')\n",
    "    print(f'\\tID ={data.ID: .0f}')\n",
    "    print(f'\\tR_E ={1e6*data.R_E: .2f} [um]')\n",
    "    print(f'\\tratio ={data.ratio: .2f} [-]')\n",
    "    print(f'\\tP_inf ={1e-5*data.P_inf: .2f} [bar]')\n",
    "    print(f'\\talfa_M ={data.alfa_M: .2f} [-]')\n",
    "    print(f'\\tT_inf ={data.T_inf - 273.15: .2f} [°C]')\n",
    "    print(f'\\tP_v ={data.P_v: .2f} [Pa]')\n",
    "    print(f'\\tsurfactant ={data.surfactant: .2f} [bar]')\n",
    "    \n",
    "    print(f'Simulation info:')\n",
    "    print(f'\\terror_code ={data.error_code: .0f}')\n",
    "    print(f'\\telapsed_time ={data.elapsed_time: .2f} [s]')\n",
    "    print(f'\\tsteps ={data.steps: .0f} [-]')\n",
    "    \n",
    "    print(f'Final state:')\n",
    "    print(f'\\tR_final ={1e6*data.x_final[0]: .2f} [um];   R_dot_final ={data.x_final[1]} [m/s];   T_final ={data.x_final[2]: .2f} [K]')\n",
    "    print(f'\\tn_H2 ={data.n_H2} [mol]; n_O2 ={data.n_O2} [mol]')\n",
    "    print(f'\\tFinal molar concentrations: [mol/cm^3]\\n\\t\\t', end='') \n",
    "    for k, specie in enumerate(par.species):\n",
    "        print(f'{specie}: {data.x_final[3+k]}', end=';  ')\n",
    "        if (k+1) % 4 == 0: print(f'\\n\\t\\t', end='')\n",
    "    \n",
    "    print(f'\\nResults:')\n",
    "    print(f'\\tcollapse_time = {data.collapse_time} [s]')\n",
    "    print(f'\\tT_max ={data.T_max: .2f} [K]')\n",
    "    print(f'\\texpansion work = {data.work} [J]')\n",
    "    print(f'\\thydrogen production ={data.energy: .2f} [MJ/kg]')\n",
    "    \n",
    "# usage:\n",
    "printData(data)"
   ]
  },
  {
   "cell_type": "code",
   "execution_count": 246,
   "metadata": {},
   "outputs": [
    {
     "name": "stdout",
     "output_type": "stream",
     "text": [
      "succecfully solved with LSODA solver\n"
     ]
    },
    {
     "data": {
      "image/png": "[encoded data removed]",
      "text/plain": [
       "<Figure size 1440x432 with 2 Axes>"
      ]
     },
     "metadata": {
      "needs_background": "light"
     },
     "output_type": "display_data"
    },
    {
     "data": {
      "image/png": "[encoded data removed]",
      "text/plain": [
       "<Figure size 1440x648 with 1 Axes>"
      ]
     },
     "metadata": {
      "needs_background": "light"
     },
     "output_type": "display_data"
    },
    {
     "name": "stdout",
     "output_type": "stream",
     "text": [
      "Control parameters:\n",
      "\tID = 0\n",
      "\tR_E = 3.00 [um]\n",
      "\tratio = 20.00 [-]\n",
      "\tP_inf = 50.00 [bar]\n",
      "\talfa_M = 0.05 [-]\n",
      "\tT_inf = 30.00 [°C]\n",
      "\tP_v = 4245.13 [Pa]\n",
      "\tsurfactant = 0.25 [bar]\n",
      "Simulation info:\n",
      "\terror_code = 0\n",
      "\telapsed_time = 1.91 [s]\n",
      "\tsteps = 14536 [-]\n",
      "Final state:\n",
      "\tR_final = 3.07 [um];   R_dot_final =4.145776711803506e-18 [m/s];   T_final = 303.15 [K]\n",
      "\tn_H2 =1.131533474814806e-14 [mol]; n_O2 =5.613844763285419e-15 [mol]\n",
      "\tFinal molar concentrations: [mol/cm^3]\n",
      "\t\tH: 6.931055800904497e-25;  H_2: 9.300065864100507e-05;  O: 8.1939654501385e-26;  O_2: 4.614015158317344e-05;  \n",
      "\t\tOH: 9.069342568936847e-26;  H_2O: 1.6842204457221416e-06;  N_2: 2.4690463878133987e-28;  HO_2: 2.5569288351682065e-11;  \n",
      "\t\tH_2O_2: 7.203171207247803e-07;  Ar: 0.001846809972581297;  He: 0.0;  OH_{ex}: 8.837486468209274e-55;  \n",
      "\t\t\n",
      "Results:\n",
      "\tcollapse_time = 8.007919977859432e-07 [s]\n",
      "\tT_max = 4104.54 [K]\n",
      "\texpansion work = 4.515209424703302e-06 [J]\n",
      "\thydrogen production = 199517.27 [MJ/kg]\n"
     ]
    }
   ],
   "source": [
    "# This funfction solves the differential equation, and plots it\n",
    "    # cpar: control parameters in a dictionary\n",
    "    # t_int: time interval to solve the diffeq in (default: [0, 1] [s])\n",
    "    #        graphs will be plotted in this intervall, if not default\n",
    "    # n: how long should the plotted time interval be compared to the collapse time (default: 5 [-])\n",
    "    # base_name: save plots as .png (default: '' alias do not save)\n",
    "    #            use base_name='plot' --> plot_1.png, plot_2.png\n",
    "    #            use base_name='images/plot' to save into images folder\n",
    "    #            using a folder for images is recommend\n",
    "    #            this folder have to be created manually\n",
    "def plot(cpar, t_int=np.array([0.0, 1.0]), n=5.0, base_name=''):\n",
    "    num_sol, error_code, elapsed_time = solve(cpar, t_int)\n",
    "    data = getData(cpar, num_sol, error_code, elapsed_time)\n",
    "    \n",
    "# Error codes\n",
    "    if error_code == 0:\n",
    "        print(f'succecfully solved with LSODA solver')\n",
    "    if error_code == 1:\n",
    "        print(f'LSODA solver didn\\'t converge, but Radau solver worked')\n",
    "    if error_code == 2:\n",
    "        print(f'LSODA solver had a fatal error, but Radau solver worked')\n",
    "    if error_code == 3:\n",
    "        print(f'Radau solver didn\\'t converge (NO SOLUTION!)')\n",
    "        return None\n",
    "    if error_code == 4:\n",
    "        print(f'Radau solver had a fatal error (NO SOLUTION!)')\n",
    "        return None\n",
    "    \n",
    "# Calculations\n",
    "    if t_int[1] != 1.0: \n",
    "        end_index = -1\n",
    "    else:\n",
    "        end_index = np.where(num_sol.t > n * data.collapse_time)[0][0]\n",
    "\n",
    "    t = num_sol.t[:end_index] # [s]\n",
    "    R = num_sol.y[0, :end_index] # [m]\n",
    "    R_dot = num_sol.y[1, :end_index] # [m/s]\n",
    "    T = num_sol.y[2, :end_index] # [K]\n",
    "    c = num_sol.y[3:, :end_index] # [mol/cm^3]\n",
    "\n",
    "    V = 4.0 / 3.0 * (100.0 * R) ** 3 * np.pi # [cm^3]\n",
    "    n = c * V\n",
    "\n",
    "# plot R and T\n",
    "    fig1 = plt.figure(figsize=(20, 6))\n",
    "    ax1 = fig1.add_subplot(axisbelow=True)\n",
    "    ax2 = ax1.twinx()\n",
    "    ax1.plot(t, R / cpar.R_E, color = 'b', linewidth = 1.0)\n",
    "    ax2.plot(t, T, color = 'r', linewidth = 1.0, linestyle = '-.')\n",
    "\n",
    "    ax1.set_ylabel('$y1$ [-]')\n",
    "    ax1.set_xlabel('$t$ [s]')\n",
    "    ax1.set_ylabel('$R/R_E$ [-]', color = 'b')\n",
    "    ax2.set_ylabel('$T$ [K]', color = 'r')\n",
    "    ax1.grid()\n",
    "    \n",
    "# textbox with initial conditions\n",
    "    text = f\"\"\"\n",
    "    Initial conditions:\n",
    "      {'$R_E$':<25} {1e6*cpar.R_E: .2f}  $[\\mu m]$\n",
    "      {'$R_0/R_E$':<25} {cpar.ratio: .2f}  $[-]$\n",
    "      {'$P_∞$':<25} {1e-5*cpar.P_inf: .2f}  $[bar]$\n",
    "      {'$α_M$':<25} {cpar.alfa_M: .2f}  $[-]$\n",
    "      {'$T_∞$':<25} {cpar.T_inf-273.15: .2f}  $[°C]$\n",
    "      {'$P_{vapour}$':<25} {cpar.P_v: .1f}  $[Pa]$\n",
    "      {'$surfactant$':<25} {cpar.surfactant: .2f}  $[-]$\n",
    "    \"\"\"\n",
    "    ax1.text(\n",
    "        0.75, 0.95, # coordinates\n",
    "        text, transform=ax1.transAxes,\n",
    "        horizontalalignment='left', verticalalignment='top',\n",
    "        fontsize=16, fontstyle='oblique',\n",
    "        bbox={'facecolor': 'white', 'alpha': 1.0, 'pad': 10},\n",
    "    )\n",
    "    \n",
    "    plt.show()\n",
    "\n",
    "# plot reactions\n",
    "    fig2 = plt.figure(figsize=(20, 9))\n",
    "    ax = fig2.add_subplot(axisbelow=True)\n",
    "\n",
    "    plt.ylim([1e-23, 1e-11])\n",
    "    ax.set_yscale('log')\n",
    "    #O,    H,    H2,     OH,   O2,      H2O,   HO2, H2O2,   O3,  OH_ex\n",
    "    for i, element in enumerate(par.species):\n",
    "        ax.plot(t, n[i], label = '$' + element + '$', linewidth = 1.0)\n",
    "\n",
    "    ax.set_xlabel('$t$ [s]')\n",
    "    ax.set_ylabel('$n_k$ [mol]')\n",
    "    ax.grid()\n",
    "    ax.legend()\n",
    "\n",
    "    plt.show()\n",
    "    \n",
    "# saving the plots\n",
    "    if base_name != '':\n",
    "        try:\n",
    "            fig1.savefig(base_name + '_1.png')\n",
    "            fig2.savefig(base_name + '_2.png')\n",
    "        except:\n",
    "            print(f'Error in saving {base_name}_1.png')\n",
    "\n",
    "# print data\n",
    "    printData(data)\n",
    "    return None\n",
    "\n",
    "# usage:\n",
    "plot(cpar)"
   ]
  },
  {
   "cell_type": "code",
   "execution_count": null,
   "metadata": {},
   "outputs": [],
   "source": []
  }
 ],
 "metadata": {
  "kernelspec": {
   "display_name": "Python 3",
   "language": "python",
   "name": "python3"
  },
  "language_info": {
   "codemirror_mode": {
    "name": "ipython",
    "version": 3
   },
   "file_extension": ".py",
   "mimetype": "text/x-python",
   "name": "python",
   "nbconvert_exporter": "python",
   "pygments_lexer": "ipython3",
   "version": "3.8.5"
  },
  "toc-autonumbering": false,
  "toc-showcode": false,
  "toc-showmarkdowntxt": false
 },
 "nbformat": 4,
 "nbformat_minor": 4
}
