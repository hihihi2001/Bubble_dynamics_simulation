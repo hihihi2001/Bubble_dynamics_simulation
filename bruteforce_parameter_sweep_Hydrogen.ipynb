{
 "cells": [
  {
   "cell_type": "code",
   "execution_count": 1,
   "metadata": {},
   "outputs": [
    {
     "name": "stdout",
     "output_type": "stream",
     "text": [
      "path=INP file examples\\chemkin_AR_HE.inp\n",
      "\u001b[34mNote, lambda value for specie 'H' is not in data.py: 0.0 is used\u001b[0m\n",
      "\u001b[34mNote, lambda value for specie 'O' is not in data.py: 0.0 is used\u001b[0m\n",
      "\u001b[34mNote, lambda value for specie 'OH' is not in data.py: 0.0 is used\u001b[0m\n",
      "\u001b[34mNote, lambda value for specie 'HO2' is not in data.py: 0.0 is used\u001b[0m\n",
      "\u001b[34mNote, lambda value for specie 'OHEX' is not in data.py: 0.0 is used\u001b[0m\n",
      "\u001b[33mWarning, third body 'CO' is not in species in line 65 ('H2/2.5/ O2/1/ H2O/12/ CO/1.9/ CO2/3.8/ HE/0.83/ AR/1/') in reaction '2H+M=H2+M'\u001b[0m\n",
      "\u001b[33mWarning, third body 'CO2' is not in species in line 65 ('H2/2.5/ O2/1/ H2O/12/ CO/1.9/ CO2/3.8/ HE/0.83/ AR/1/') in reaction '2H+M=H2+M'\u001b[0m\n",
      "\u001b[33mWarning, third body 'CO' is not in species in line 67 ('H2/2.5/ H2O/12/ AR/0.83/ CO/1.9/ CO2/3.8/ HE/0.83/') in reaction '2O+M=O2+M'\u001b[0m\n",
      "\u001b[33mWarning, third body 'CO2' is not in species in line 67 ('H2/2.5/ H2O/12/ AR/0.83/ CO/1.9/ CO2/3.8/ HE/0.83/') in reaction '2O+M=O2+M'\u001b[0m\n",
      "\u001b[33mWarning, third body 'CO' is not in species in line 69 ('H2/2.5/ O2/1/ H2O/12/ AR/0.75/ CO/1.5/ CO2/2/ HE/0.75/') in reaction 'O+H+M=OH+M'\u001b[0m\n",
      "\u001b[33mWarning, third body 'CO2' is not in species in line 69 ('H2/2.5/ O2/1/ H2O/12/ AR/0.75/ CO/1.5/ CO2/2/ HE/0.75/') in reaction 'O+H+M=OH+M'\u001b[0m\n",
      "\u001b[33mWarning, third body 'CO' is not in species in line 71 ('H2/2.5/ O2/1/ H2O/12/ AR/0.38/ HE/0.44/ CO/1.9/ CO2/3.8/') in reaction 'H+OH+M=H2O+M'\u001b[0m\n",
      "\u001b[33mWarning, third body 'CO2' is not in species in line 71 ('H2/2.5/ O2/1/ H2O/12/ AR/0.38/ HE/0.44/ CO/1.9/ CO2/3.8/') in reaction 'H+OH+M=H2O+M'\u001b[0m\n",
      "\u001b[33mWarning, third body 'CO' is not in species in line 75 ('H2/1.511/ O2/1.00/ CO/1.9/ CO2/3.8/ HE/0.65/ H2O/11.372/ AR/0.474/') in reaction 'H+O2(+M)=HO2(+M)'\u001b[0m\n",
      "\u001b[33mWarning, third body 'CO2' is not in species in line 75 ('H2/1.511/ O2/1.00/ CO/1.9/ CO2/3.8/ HE/0.65/ H2O/11.372/ AR/0.474/') in reaction 'H+O2(+M)=HO2(+M)'\u001b[0m\n",
      "\u001b[33mWarning, third body 'CO2' is not in species in line 87 ('H2O/5/ CO2/1.07/ AR/0.67/ O2/0.8/ HE/0.43/ H2O2/5.13/ H2/2.47/ CO/1.87/') in reaction '2OH(+M)=H2O2(+M)'\u001b[0m\n",
      "\u001b[33mWarning, third body 'CO' is not in species in line 87 ('H2O/5/ CO2/1.07/ AR/0.67/ O2/0.8/ HE/0.43/ H2O2/5.13/ H2/2.47/ CO/1.87/') in reaction '2OH(+M)=H2O2(+M)'\u001b[0m\n",
      "\u001b[34mNote, pre-exponential factor is modified from units of [cm^3/mol/s] to [cm^3/mol/s]\u001b[0m\n",
      "\u001b[34mNote, activation energy (E_i) is modified from units of [K] to [cal/mol]\u001b[0m\n",
      "\u001b[33mWarning, photon (HV) in reaction 28 ('OHEX=OH+HV') is ignored\u001b[0m\n",
      "model: chemkin_AR_HE\n",
      "File 'parameters.py' succesfully created\n",
      "chemkin_AR_HE\n"
     ]
    }
   ],
   "source": [
    "\"\"\"Create parameters.py from a .inp and load it\"\"\"\n",
    "# This cell is facultative, you can use an existing parameters.py\n",
    "\n",
    "# Directory for .inp file:\n",
    "path = 'INP file examples\\\\chemkin_AR_HE.inp'\n",
    "\n",
    "# import libraries:\n",
    "import importlib   # for reloading your own files\n",
    "from termcolor import colored   # for colored error messages\n",
    "# my own files:\n",
    "try:\n",
    "    import inp_data_extractor as inp\n",
    "except:\n",
    "    try:\n",
    "        import Bubble_dynamics_simulation.inp_data_extractor as inp\n",
    "    except:\n",
    "        print(colored(f'Error, \\'inp_data_extractor.py\\' not found', 'red'))\n",
    "import inp_data_extractor as inp\n",
    "importlib.reload(inp)\n",
    "\n",
    "# create parameters.py\n",
    "inp.extract(path)\n",
    "\n",
    "# load parameters.py\n",
    "import parameters as par\n",
    "importlib.reload(par)\n",
    "print(par.model)"
   ]
  },
  {
   "cell_type": "code",
   "execution_count": 2,
   "metadata": {},
   "outputs": [
    {
     "name": "stdout",
     "output_type": "stream",
     "text": [
      "model: chemkin_AR_HE\n",
      "target specie: H2\n",
      "excitation: no_excitation (control parameters: [])\n",
      "enable heat transfer: \u001b[32mTrue\u001b[0m\tenable evaporation: \u001b[32mTrue\u001b[0m\tenable reactions: \u001b[32mTrue\u001b[0m\tenable dissipated energy: \u001b[31mFalse\u001b[0m\n"
     ]
    }
   ],
   "source": [
    "\"\"\"Libraries\"\"\"\n",
    "\n",
    "# for plotting:\n",
    "%matplotlib inline\n",
    "import matplotlib.pyplot as plt\n",
    "plt.rcParams.update({'font.size': 18})\n",
    "\n",
    "import numpy as np   # matrices, math\n",
    "import time   # runtime measurement\n",
    "from multiprocessing import Pool, cpu_count   # multithreading\n",
    "import importlib   # reload changes you made\n",
    "import itertools   # assemble all combinations of control parameters\n",
    "\n",
    "# my own file:\n",
    "already_imported = 'de' in globals()\n",
    "try:\n",
    "    import full_bubble_model as de\n",
    "except:\n",
    "    try:\n",
    "        import Bubble_dynamics_simulation.full_bubble_model as de\n",
    "    except:\n",
    "        print(colored(f'Error, \\'full_bubble_model.py\\' not found', 'red'))\n",
    "if already_imported: importlib.reload(de)   # reload changes you made"
   ]
  },
  {
   "cell_type": "code",
   "execution_count": 3,
   "metadata": {},
   "outputs": [
    {
     "name": "stdout",
     "output_type": "stream",
     "text": [
      "R_E: 10\n",
      "ratio: 10\n",
      "P_amb: 4\n",
      "T_inf: 1\n",
      "alfa_M: 1\n",
      "c_L: 1\n",
      "surfactant: 1\n",
      "_______________________\n",
      "total combinations: 400\n"
     ]
    }
   ],
   "source": [
    "\"\"\"Control parameter ranges and division\"\"\"\n",
    "# a list for each control parameter, containing all the possible values\n",
    "\n",
    "ranges = dict(\n",
    "  # Initial conditions:\n",
    "    # bubble equilibrium radius [m]\n",
    "    R_E = [1e-6*x for x in [1.0, 2.0, 3.0, 4.0, 5.0, 7.5, 10.0, 15.0, 20.0, 25.0]], # [um --> m]\n",
    "    # initial radius / equilibrium radius R_0/R_E [-]\n",
    "    ratio = [2.0, 3.0, 5.0, 10.0, 15.0, 20.0, 25.0, 30.0, 40.0, 50.0],\n",
    "  # Ambient parameters:\n",
    "    # ambient pressure [Pa]\n",
    "    P_amb = [x * par.atm2Pa for x in [1.0, 10.0, 25.0, 50.0]], # [atm --> Pa]\n",
    "    # ambient temperature [K]       \n",
    "    T_inf = [par.absolute_zero + x for x in [30.0]], # [°C --> K]\n",
    "  # Liquid parameters:\n",
    "    # water accommodation coefficient [-]\n",
    "    alfa_M = [0.05],\n",
    "    #P_v = par.P_v,                    # vapour pressure [Pa]\n",
    "    #mu_L = par.mu_L,                  # dynamic viscosity [Pa*s]\n",
    "    # sound speed [m/s]\n",
    "    c_L = [par.c_L],\n",
    "    # surfactant (surface tension modfier) [-]\n",
    "    surfactant = [1.0],\n",
    "  # Excitation parameters: (excitation_type = no_excitation)\n",
    "    # -\n",
    ")\n",
    "\n",
    "# print total combinations:\n",
    "for key in ranges:\n",
    "    print(f'{key}: {len(ranges[key])}')\n",
    "total_combinations = f'total combinations: {np.prod([len(ranges[key]) for key in ranges])}'\n",
    "print(''.join(['_' for i in range(len(total_combinations))]))\n",
    "print(total_combinations)"
   ]
  },
  {
   "cell_type": "code",
   "execution_count": 4,
   "metadata": {},
   "outputs": [
    {
     "name": "stdout",
     "output_type": "stream",
     "text": [
      "Assemble cpars: 0.00 s\n",
      "Assemble kwargs_list: 0.00 s\n"
     ]
    }
   ],
   "source": [
    "\"\"\"Get all combinations\"\"\"\n",
    "# Make a list, with one dictionary for eachy parameter combinations\n",
    "\n",
    "start = time.time()\n",
    "cpars = []\n",
    "ID = 1\n",
    "for values in itertools.product(*ranges.values()):\n",
    "    cpar = dict(zip(ranges.keys(), values))\n",
    "    cpar['ID'] = ID                      # ID of control parameter (not used during calculation)\n",
    "    cpar['gases'] = [par.index['AR']]    # indexes of species in initial bubble (list of species indexes)\n",
    "    cpar['fractions'] = [1.0]            # molar fractions of species in initial bubble (list of fractions for every gas)\n",
    "    # Calculate pressure/temperature dependent parameters:\n",
    "    cpar['mu_L'] = de.Viscosity(cpar['T_inf'])\n",
    "    cpar['P_v'] = de.VapourPressure(cpar['T_inf'])\n",
    "    cpars.append(cpar)\n",
    "    ID += 1\n",
    "\n",
    "print(f'Assemble cpars: {time.time()-start:.2f} s')\n",
    "start = time.time()\n",
    "\n",
    "# Create input dictionary for de.simulate(), a list of dictionaries with cpar and other arguments\n",
    "kwargs_list = [dict(cpar=cpar, t_int=np.array([0.0, 1.0]), LSODA_timeout=30, Radau_timeout=100) for cpar in cpars]\n",
    "end = time.time()\n",
    "print(f'Assemble kwargs_list: {time.time()-start:.2f} s')"
   ]
  },
  {
   "cell_type": "code",
   "execution_count": 5,
   "metadata": {},
   "outputs": [
    {
     "name": "stdout",
     "output_type": "stream",
     "text": [
      "Folder already exists with 0 csv in it\n",
      "index: 386/400,   error_code:  200,   steps: 85847,   runtime:  11.17 [s]   |   R_E= 25.00 [um]; ratio= 25.00 [-]; P_amb= 10.13 [bar]; alfa_M= 0.05 [-]; T_inf= 30.00 [°C]; surfactant= 100 [%]   |   H2 production:  139347.5 [MJ/kg] (best:  7742.6 [MJ/kg])                                                                                              \n",
      "\n",
      "DONE\n",
      "total time:  0 hours  2 mins\n",
      "             99.17 [s]   ( 0.25 [s/run])\n"
     ]
    }
   ],
   "source": [
    "\"\"\"Parameter study, multithread\"\"\"\n",
    "# Runs each combinations in cpars, and saves the results into CSV files\n",
    "# use Pool(processes=cpu_count()-1) to limit number of threads being used.\n",
    "# use pool.imap(...) instead of pool.imap_unordered(...) to preserve order in which cpars was made\n",
    "\n",
    "max_lines = 100    # maximum length of a CSV\n",
    "best_energy_efficiency = 1e30\n",
    "\n",
    "start = time.time()\n",
    "file = de.Make_dir('D:/parameter_studies/test 1')\n",
    "file.new_file()\n",
    "with Pool(processes=cpu_count(), maxtasksperchild=100) as pool:\n",
    "    results = pool.imap_unordered(de.simulate, kwargs_list)\n",
    "\n",
    "    for data in results:\n",
    "      # save results:\n",
    "        if file.lines > max_lines:\n",
    "            file.close()\n",
    "            file.new_file()\n",
    "        data = de.dotdict(data)\n",
    "        file.write_line(data)\n",
    "      # print stuff:\n",
    "        if data.energy_efficiency > 0 and data.energy_efficiency < best_energy_efficiency:\n",
    "            best_energy_efficiency = data.energy_efficiency\n",
    "        print(f'index: {data.ID}/{len(cpars)},   error_code: {data.error_code: >4},   steps: {data.steps},   runtime: {data.elapsed_time: .2f} [s]   |   '+\n",
    "              f'R_E={1e6*data.R_E: .2f} [um]; ratio={data.ratio: .2f} [-]; P_amb={1e-5*data.P_amb: .2f} [bar]; alfa_M={data.alfa_M: .2f} [-]; '+\n",
    "              f'T_inf={data.T_inf-273.15: .2f} [°C]; surfactant={100*data.surfactant: .0f} [%]   |   {de.target_specie} production: {data.energy_efficiency: .1f} [MJ/kg] '+\n",
    "              f'(best: {best_energy_efficiency: .1f} [MJ/kg])                                                 ', end='\\r')\n",
    "            \n",
    "file.close()\n",
    "end = time.time()\n",
    "elapsed = end - start\n",
    "print(f'\\n\\nDONE')\n",
    "print(f'total time: {(elapsed / 3600): .0f} hours {((elapsed % 3600) / 60): .0f} mins')\n",
    "print(f'            {elapsed: .2f} [s]   ({(elapsed / len(    cpars)): .2f} [s/run])')"
   ]
  },
  {
   "cell_type": "code",
   "execution_count": null,
   "metadata": {},
   "outputs": [],
   "source": []
  }
 ],
 "metadata": {
  "kernelspec": {
   "display_name": "Python 3",
   "language": "python",
   "name": "python3"
  },
  "language_info": {
   "codemirror_mode": {
    "name": "ipython",
    "version": 3
   },
   "file_extension": ".py",
   "mimetype": "text/x-python",
   "name": "python",
   "nbconvert_exporter": "python",
   "pygments_lexer": "ipython3",
   "version": "3.10.11"
  },
  "vscode": {
   "interpreter": {
    "hash": "82bdb1de78d07c46b3c7786b6732da9a3bdbb8393012f65f5b4f35977248bea0"
   }
  }
 },
 "nbformat": 4,
 "nbformat_minor": 4
}
