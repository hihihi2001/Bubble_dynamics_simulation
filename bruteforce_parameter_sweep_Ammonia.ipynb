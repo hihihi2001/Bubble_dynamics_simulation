{
 "cells": [
  {
   "cell_type": "code",
   "execution_count": 1,
   "metadata": {},
   "outputs": [
    {
     "name": "stdout",
     "output_type": "stream",
     "text": [
      "Note, lambda value for specie 'NO' is not in data.py: 0.0 is used\n",
      "Note, lambda value for specie 'H' is not in data.py: 0.0 is used\n",
      "Note, lambda value for specie 'O' is not in data.py: 0.0 is used\n",
      "Note, lambda value for specie 'OH' is not in data.py: 0.0 is used\n",
      "Note, lambda value for specie 'HO2' is not in data.py: 0.0 is used\n",
      "Note, lambda value for specie 'NH2' is not in data.py: 0.0 is used\n",
      "Note, lambda value for specie 'NH' is not in data.py: 0.0 is used\n",
      "Note, lambda value for specie 'N' is not in data.py: 0.0 is used\n",
      "Note, lambda value for specie 'NNH' is not in data.py: 0.0 is used\n",
      "Note, lambda value for specie 'NH2OH' is not in data.py: 0.0 is used\n",
      "Note, lambda value for specie 'H2NO' is not in data.py: 0.0 is used\n",
      "Note, lambda value for specie 'HNOH' is not in data.py: 0.0 is used\n",
      "Note, lambda value for specie 'HNO' is not in data.py: 0.0 is used\n",
      "Note, lambda value for specie 'HON' is not in data.py: 0.0 is used\n",
      "Note, lambda value for specie 'HONO' is not in data.py: 0.0 is used\n",
      "Note, lambda value for specie 'HNO2' is not in data.py: 0.0 is used\n",
      "Note, lambda value for specie 'NO3' is not in data.py: 0.0 is used\n",
      "Note, lambda value for specie 'HONO2' is not in data.py: 0.0 is used\n",
      "Note, lambda value for specie 'N2O' is not in data.py: 0.0 is used\n",
      "Note, lambda value for specie 'N2H4' is not in data.py: 0.0 is used\n",
      "Note, lambda value for specie 'N2H3' is not in data.py: 0.0 is used\n",
      "Note, lambda value for specie 'N2H2' is not in data.py: 0.0 is used\n",
      "Note, lambda value for specie 'H2NN' is not in data.py: 0.0 is used\n",
      "Warning in rearrange(), lists have different lengths\n",
      "Warning in rearrange(), 'O3' is in original, but not in new\n",
      "Warning in rearrange(), 'OH*' is in original, but not in new\n",
      "Warning in rearrange(), lists have different lengths\n",
      "Warning in rearrange(), 'O3' is in original, but not in new\n",
      "Warning in rearrange(), 'OH*' is in original, but not in new\n",
      "Warning in rearrange(), lists have different lengths\n",
      "Warning in rearrange(), 'O3' is in original, but not in new\n",
      "Warning in rearrange(), 'OH*' is in original, but not in new\n",
      "model: INP file examples//chem_Otomo2018_without_O_reactions\n",
      "File 'parameters.py' succesfully created\n",
      "INP file examples//chem_Otomo2018_without_O_reactions\n"
     ]
    }
   ],
   "source": [
    "\"\"\"Create parameters.py from a .inp and load it\"\"\"\n",
    "# This cell is facultative, you can use an existing parameters.py\n",
    "\n",
    "# Directory for .inp file:\n",
    "path = 'INP file examples//chem_Otomo2018_without_O_reactions.inp'#'INP file examples//chem_Otomo2018.inp'#'INP file examples//chemkin_AR_HE.inp'\n",
    "\n",
    "# import libraries:\n",
    "import importlib   # for reloading your own files\n",
    "# my own files:\n",
    "import inp_data_extractor as inp\n",
    "importlib.reload(inp)\n",
    "\n",
    "# create parameters.py\n",
    "inp.extract(path)\n",
    "\n",
    "# load parameters.py\n",
    "import parameters as par\n",
    "importlib.reload(par)\n",
    "print(par.model)"
   ]
  },
  {
   "cell_type": "code",
   "execution_count": 2,
   "metadata": {},
   "outputs": [
    {
     "name": "stdout",
     "output_type": "stream",
     "text": [
      "model: INP file examples//chem_Otomo2018_without_O_reactions\n",
      "Enable heat transfer: True, enable evaporation: False, enable reactions: True\n",
      "model: INP file examples//chem_Otomo2018_without_O_reactions\n",
      "Enable heat transfer: True, enable evaporation: False, enable reactions: True\n"
     ]
    },
    {
     "data": {
      "text/plain": [
       "<module 'full_bubble_model' from 'C:\\\\Users\\\\mrkf9\\\\Documents\\\\KozakAron\\\\python\\\\ammonia_TDK_simulation\\\\Bubble_dynamics_simulation\\\\full_bubble_model.py'>"
      ]
     },
     "execution_count": 2,
     "metadata": {},
     "output_type": "execute_result"
    }
   ],
   "source": [
    "\"\"\"Libraries\"\"\"\n",
    "\n",
    "# for plotting:\n",
    "%matplotlib inline    \n",
    "#If you run this code on the HDS department CPU you should comment the previous line! This line is needed only if you run it in Jupyter IPython.\n",
    "import matplotlib.pyplot as plt\n",
    "plt.rcParams.update({'font.size': 18})\n",
    "\n",
    "import numpy as np   # matrices, math\n",
    "import time   # runtime measurement\n",
    "from multiprocessing import Pool, cpu_count   # multithreading\n",
    "import importlib   # reload changes you made\n",
    "\n",
    "# my own file:\n",
    "import full_bubble_model as de    # full bubble model\n",
    "importlib.reload(de)   # reload changes you made"
   ]
  },
  {
   "cell_type": "code",
   "execution_count": 40,
   "metadata": {},
   "outputs": [
    {
     "name": "stdout",
     "output_type": "stream",
     "text": [
      "R_E: 53\n",
      "ratio: 45\n",
      "P_amb: 1\n",
      "alfa_M: 1\n",
      "T_inf: 1\n",
      "surfactant: 1\n",
      "fractions: 10\n",
      "freq1: 1\n",
      "freq2: 1\n",
      "pA1: 1\n",
      "pA2: 1\n",
      "theta_phase: 1\n",
      "mu_L: 1\n",
      "c_L: 1\n",
      "total combinations: 23850\n"
     ]
    }
   ],
   "source": [
    "ranges = de.dotdict(dict(\n",
    "    # Equilibrium radius [um --> m]\n",
    "    R_E = [1.0e-6*x for x in np.concatenate(([1.0,5.0,10.0,15.0,20.0,30.0,40.0,50.0,60.0,70.0,80.0,90.0],np.linspace(100,900,num=41)))], #0.0007329104, #[1.0, 2.0, 3.0, 4.0, 5.0, 7.5, 10.0, 15.0, 20.0, 25.0]],\n",
    "    # R_star / R_E [-]\n",
    "    ratio = [x for x in np.linspace(1.2,10,num=45)], #[2.0, 3.0, 5.0, 10.0, 15.0, 20.0, 25.0, 30.0, 40.0, 50.0],\n",
    "    # Ambient pressure [Pa]\n",
    "    P_amb = [1.01325e5*x for x in [1.0]],#np.linspace (-0.2,1.1,num=27)], #1.01325e5*x for x in np.linspace(-0.2,0.2,num=101) #[1e5*x for x in [1.0, 10.0, 25.0, 50.0]],\n",
    "    # Accommodation coeff. for evaporation [-]\n",
    "    alfa_M = [0.35],\n",
    "    # Ambient temperature [°C --> K]\n",
    "    T_inf = [273.15+x for x in [20.0]],\n",
    "    # Surface tension modifier [-]\n",
    "    surfactant = [1.0], #np.linspace(0.0,1.0,num=6),\n",
    "    # Molar fractions of species in initial bubble (H2 and N2) [-]\n",
    "    fractions = [[x,1.0-x] for x in np.linspace(0.4,0.85,num=10)], #[0.7195518738812899,0.28044812611870934], #[[0.40, 0.60],[0.50, 0.50],[0.6, 0.4],[0.7,0.3],[0.75, 0.25],[0.8, 0.2],],\n",
    "    #Exciting frequency 1 [Hz]\n",
    "    freq1 = [2.0e4], \n",
    "    #Exciting frequency 2 [Hz]\n",
    "    freq2 = [1.0e5], \n",
    "    #Exciting pressure amplitude 1 [Pa]\n",
    "    pA1 = [0.0e5], \n",
    "    #Exciting pressure amplitude 2 [Pa]\n",
    "    pA2 = [0.0e5], \n",
    "    #Initial phase angle between the exciting pressure waves [rad]\n",
    "    theta_phase = [0.1],\n",
    "    #Dynamic viscosity of the liquid [Pa*s]\n",
    "    mu_L = [0.001017649], #[0.001 * x for x in np.logspace(np.log10(1.0),np.log10(100.0),num=3)],\n",
    "    #Sound velocity in the liquid [m/s]\n",
    "    c_L = [1483.0], #[1483.0 * x for x  in np.linspace(0.0,2.0,num=5)],  \n",
    "))\n",
    "\n",
    "# print total combinations:\n",
    "for key in ranges:\n",
    "    print(f'{key}: {len(ranges[key])}')\n",
    "print(f'total combinations: {np.prod([len(ranges[key]) for key in ranges])}')"
   ]
  },
  {
   "cell_type": "code",
   "execution_count": 5,
   "metadata": {},
   "outputs": [],
   "source": [
    "\"\"\"Get all combinations\"\"\"\n",
    "# Make a list, with one dictionary for eachy parameter combinations\n",
    "\n",
    "cpars = []\n",
    "ID = 1\n",
    "for R_E in ranges.R_E:\n",
    "    for ratio in ranges.ratio:\n",
    "        for P_amb in ranges.P_amb:\n",
    "            for alfa_M in ranges.alfa_M:\n",
    "                for T_inf in ranges.T_inf:\n",
    "                    for surfactant in ranges.surfactant:\n",
    "                        for fractions in ranges.fractions:\n",
    "                            for mu_L in ranges.mu_L:\n",
    "                                for c_L in ranges.c_L:\n",
    "                                    cpar = dict(\n",
    "                                        ID=ID,\n",
    "                                        R_E=R_E, # [m]\n",
    "                                        ratio=ratio, # [-]\n",
    "                                        P_amb=P_amb, # [Pa]\n",
    "                                        alfa_M=alfa_M, # [-]\n",
    "                                        T_inf=T_inf, # [m]\n",
    "                                        surfactant=surfactant, # [-]\n",
    "                                        gases=[de.par.index['H2'], de.par.index['N2']], # indexes of species in initial bubble\n",
    "                                        fractions=fractions, # molar fractions of species in initial bubble\n",
    "                                        freq1=2.0e4, # [Hz]\n",
    "                                        freq2=1.0e5, # [Hz]\n",
    "                                        pA1=0.0e5, # [Pa]\n",
    "                                        pA2=0.0e5, # [Pa]\n",
    "                                        theta_phase=0.1, # [rad]\n",
    "                                        mu_L=mu_L, #[Pa*s]\n",
    "                                        c_L=c_L, #[m/s]\n",
    "                                    )\n",
    "                                    cpar['P_v'] = de.VapourPressure(cpar['T_inf']) # [Pa]\n",
    "                                    #cpar['mu_L'] = de.Viscosity(cpar['T_inf']) # [Pa*s]\n",
    "                                    cpars.append(cpar)\n",
    "                                    ID += 1\n",
    "                            \n",
    "# Create input dictionary for de.simulate(), a list of dictionaries with cpar and other arguments\n",
    "kwargs_list = [dict(cpar=cpar, t_int=np.array([0.0, 1.0e-3]), LSODA_timeout=300, Radau_timeout=30) for cpar in cpars]"
   ]
  },
  {
   "cell_type": "code",
   "execution_count": null,
   "metadata": {},
   "outputs": [
    {
     "name": "stdout",
     "output_type": "stream",
     "text": [
      "Folder already exists with 8 csv in it\n",
      "index: 566/116640,   error_code: 6,   steps: 0,   runtime:  0.00 [s]   |   R_E= 1.00 [um], ratio= 2.00 [-], P_amb= 0.10 [bar], initial H2=50.0 %, alfa_M= 0.35 [-], T_inf= 20.00 [°C], surfactant= 0 [%], freq1 = 20000 [Hz], freq2 = 100000 [Hz], pA1 = 0 [Hz], pA2 = 0 [Hz], theta_phase= 0.10 [rad]   |   mu_L = 0.10000 [Pa*s], c_L = 0.000 [m/s]   |   ammonia production:  0.0 [MJ/kg] (best:  44959635084064635305852928.0 [MJ/kg])35084064635305852928.0 [MJ/kg])]))/kg])\r"
     ]
    }
   ],
   "source": [
    "\"\"\"Parameter study, multithread\"\"\"\n",
    "# Runs each combinations in cpars, and saves the results into CSV files\n",
    "# use Pool(processes=cpu_count()-1) to limit number of threads being used.\n",
    "# use pool.imap(...) instead of pool.imap_unordered(...) to preserve order in which cpars was made\n",
    "\n",
    "max_lines = 11000    # maximum length of a CSV\n",
    "best_energy = 1.0e30\n",
    "\n",
    "start = time.time()\n",
    "file = de.Make_dir('test 1')\n",
    "file.new_file()\n",
    "with Pool(processes=cpu_count(), maxtasksperchild=100) as pool:\n",
    "    results = pool.imap_unordered(de.simulate, kwargs_list)\n",
    "\n",
    "    for data in results:\n",
    "      # save results:\n",
    "        if file.lines > max_lines:\n",
    "            file.close()\n",
    "            file.new_file()\n",
    "        data = de.dotdict(data)\n",
    "        file.write_line(data)\n",
    "      # print stuff:\n",
    "        if data.energy_efficiency>0 and data.energy_efficiency<best_energy:\n",
    "            best_energy = data.energy_efficiency\n",
    "        print(f'index: {data.ID}/{len(cpars)},   error_code: {data.error_code},   steps: {data.steps},   runtime: {data.elapsed_time: .2f} [s]   |   '+\n",
    "              f'R_E={1.0e6*data.R_E: .2f} [um], ratio={data.ratio: .2f} [-], P_amb={1.0e-5*data.P_amb: .6f} [bar], initial H2={100.0*data.fractions[0]} %, '+\n",
    "              f'alfa_M={data.alfa_M: .2f} [-], T_inf={data.T_inf-273.15: .2f} [°C], surfactant={100.0*data.surfactant: .0f} [%], freq1 ={data.freq1: .0f} [Hz], '+\n",
    "              f'freq2 ={data.freq2: .0f} [Hz], pA1 ={data.pA1: .0f} [Hz], pA2 ={data.pA2: .0f} [Hz], theta_phase={data.theta_phase: .2f} [rad]   |   '+\n",
    "              f'mu_L ={data.mu_L: .5f} [Pa*s], c_L ={data.c_L: .3f} [m/s]   |   '+\n",
    "              f'ammonia production: {data.energy_efficiency: .1f} [MJ/kg] (best: {best_energy: .1f} [MJ/kg])', end='\\r')\n",
    "            \n",
    "file.close()\n",
    "end = time.time()\n",
    "elapsed = end - start\n",
    "print(f'\\n\\nDONE')\n",
    "print(f'total time: {(elapsed-(elapsed % 3600))/3600: .0f} hours {((elapsed % 3600) / 60): .0f} mins')\n",
    "print(f'            {elapsed: .2f} [s]   ({(elapsed / len(cpars)): .2f} [s/run])')"
   ]
  }
 ],
 "metadata": {
  "kernelspec": {
   "display_name": "Python 3 (ipykernel)",
   "language": "python",
   "name": "python3"
  },
  "language_info": {
   "codemirror_mode": {
    "name": "ipython",
    "version": 3
   },
   "file_extension": ".py",
   "mimetype": "text/x-python",
   "name": "python",
   "nbconvert_exporter": "python",
   "pygments_lexer": "ipython3",
   "version": "3.10.11"
  },
  "vscode": {
   "interpreter": {
    "hash": "82bdb1de78d07c46b3c7786b6732da9a3bdbb8393012f65f5b4f35977248bea0"
   }
  }
 },
 "nbformat": 4,
 "nbformat_minor": 4
}
