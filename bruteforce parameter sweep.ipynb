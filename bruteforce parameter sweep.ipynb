{
 "cells": [
  {
   "cell_type": "code",
   "execution_count": 34,
   "metadata": {},
   "outputs": [
    {
     "data": {
      "text/plain": [
       "<module 'diffeq' from 'F:\\\\OneDrive - Budapesti Műszaki és Gazdaságtudományi Egyetem\\\\TDK\\\\Letisztázott programok\\\\diffeq.py'>"
      ]
     },
     "execution_count": 34,
     "metadata": {},
     "output_type": "execute_result"
    }
   ],
   "source": [
    "\"\"\"Libraries\"\"\"\n",
    "\n",
    "# for plotting:\n",
    "%matplotlib inline\n",
    "import matplotlib.pyplot as plt\n",
    "plt.rcParams.update({'font.size': 18})\n",
    "\n",
    "import numpy as np   # matrices, math\n",
    "import time   # runtime measurement\n",
    "from multiprocessing import Pool   # multithreading\n",
    "import importlib   # reload changes you made\n",
    "\n",
    "# my own file:\n",
    "import diffeq as de    # full bubble model\n",
    "importlib.reload(de)   # reload changes you made"
   ]
  },
  {
   "cell_type": "code",
   "execution_count": 3,
   "metadata": {},
   "outputs": [
    {
     "name": "stdout",
     "output_type": "stream",
     "text": [
      "R_E: 10\n",
      "ratio: 10\n",
      "P_inf: 4\n",
      "alfa_M: 1\n",
      "T_inf: 1\n",
      "surfactant: 1\n",
      "total combinations: 400\n"
     ]
    }
   ],
   "source": [
    "\"\"\"Control parameter ranges and division\"\"\"\n",
    "# a list for each control parameter, containing all the possible values\n",
    "\n",
    "ranges = de.dotdict(dict(\n",
    "    # Equilibrium radius [um --> m]\n",
    "    R_E = [1e-6*x for x in [0.5, 1.0, 1.5, 2.0, 3.0, 4.0, 5.0, 10.0, 15.0, 20.0]],\n",
    "    # R_star / R_E [-]\n",
    "    ratio = [2.0, 3.0, 5.0, 7.0, 8.0, 10.0, 14.0, 18.0, 25.0, 32.0],\n",
    "    # Ambient pressure [Pa]\n",
    "    P_inf = [1e5*x for x in [1.0, 10.0, 20.0, 50.0]],\n",
    "    # Accommodation coeff. for evaporation [-]\n",
    "    alfa_M = [0.05],\n",
    "    # Ambient temperature [°C --> K]\n",
    "    T_inf = [273.15+x for x in [30.0]],\n",
    "    # Surface tension modifier [-]\n",
    "    surfactant = [1.0]\n",
    "))\n",
    "\n",
    "# print total combinations:\n",
    "for key in ranges:\n",
    "    print(f'{key}: {len(ranges[key])}')\n",
    "print(f'total combinations: {np.prod([len(ranges[key]) for key in ranges])}')"
   ]
  },
  {
   "cell_type": "code",
   "execution_count": 51,
   "metadata": {},
   "outputs": [],
   "source": [
    "\"\"\"Get all combinations\"\"\"\n",
    "# Make a list, with one dictionary for eachy parameter combinations\n",
    "\n",
    "cpars = []\n",
    "ID = 1\n",
    "for R_E in ranges.R_E:\n",
    "    for ratio in ranges.ratio:\n",
    "        for P_inf in ranges.P_inf:\n",
    "            for alfa_M in ranges.alfa_M:\n",
    "                for T_inf in ranges.T_inf:\n",
    "                    for surfactant in ranges.surfactant:\n",
    "                        cpar = dict(\n",
    "                            ID=ID,\n",
    "                            R_E=R_E, # [m]\n",
    "                            ratio=ratio, # [-]\n",
    "                            P_inf=P_inf, # [Pa]\n",
    "                            alfa_M=alfa_M, # [-]\n",
    "                            T_inf=T_inf, # [m]\n",
    "                            surfactant=surfactant, # [-]\n",
    "                        )\n",
    "                        cpar['P_v'] = de.VapourPressure(cpar['T_inf']) # [Pa]\n",
    "                        cpars.append(cpar)\n",
    "                        ID += 1"
   ]
  },
  {
   "cell_type": "code",
   "execution_count": 49,
   "metadata": {},
   "outputs": [
    {
     "name": "stdout",
     "output_type": "stream",
     "text": [
      "Folder already exists with 12 csv in it\n",
      "index: 398/400,   error_code: 1,   steps: 22637,   runtime:  15.78 [s]   |   R_E= 20.00 [um]; ratio= 32.00 [-]; P_inf= 10.00 [bar]; alfa_M= 0.05 [-]; T_inf= 576.30 [°C]; surfactant= 100 [%]   |   hydrogen production:  217119.7 [MJ/kg]                                                           \n",
      "\n",
      "DONE\n",
      "total time:  359.28 [s]   ( 0.90 [s/run])\n"
     ]
    }
   ],
   "source": [
    "\"\"\"Parameter study, multithread\"\"\"\n",
    "# Runs each combinations in cpars, and saves the results into CSV files\n",
    "# use Pool(processes=...) to limit number of threads being used.\n",
    "# If you want to use your PC while simulations are running, I recommend using processes=n-1 or n-2, if your CPU has n cores\n",
    "# # use pool.imap(...) instead of pool.imap_unordered(...) to preserve order in which cpars was made\n",
    "\n",
    "max_lines = 100    # maximum length of a CSV\n",
    "\n",
    "start = time.time()\n",
    "file = de.Make_dir('test')\n",
    "file.new_file()\n",
    "with Pool() as pool:\n",
    "    results = pool.imap_unordered(de.simulate, cpars)\n",
    "\n",
    "    for data in results:\n",
    "        if file.lines > max_lines:\n",
    "            file.close()\n",
    "            file.new_file()\n",
    "        data = de.dotdict(data)\n",
    "        file.write_line(data)\n",
    "        print(f'index: {data.ID}/{len(cpars)},   error_code: {data.error_code},   steps: {data.steps},   runtime: {data.elapsed_time: .2f} [s]   |   R_E={1e6*data.R_E: .2f} [um]; ' + \n",
    "              f'ratio={data.ratio: .2f} [-]; P_inf={1e-5*data.P_inf: .2f} [bar]; alfa_M={data.alfa_M: .2f} [-]; T_inf={273.15+data.T_inf: .2f} [°C]; '+\n",
    "              f'surfactant={100*data.surfactant: .0f} [%]   |   hydrogen production: {data.energy: .1f} [MJ/kg]                                       ', end='\\r')\n",
    "        \n",
    "file.close()\n",
    "end = time.time()\n",
    "elapsed = end - start\n",
    "print(f'\\n\\nDONE')\n",
    "print(f\"total time: {elapsed: .2f} [s]   ({(elapsed / len(cpars)): .2f} [s/run])\")"
   ]
  },
  {
   "cell_type": "code",
   "execution_count": null,
   "metadata": {},
   "outputs": [],
   "source": []
  }
 ],
 "metadata": {
  "kernelspec": {
   "display_name": "Python 3",
   "language": "python",
   "name": "python3"
  },
  "language_info": {
   "codemirror_mode": {
    "name": "ipython",
    "version": 3
   },
   "file_extension": ".py",
   "mimetype": "text/x-python",
   "name": "python",
   "nbconvert_exporter": "python",
   "pygments_lexer": "ipython3",
   "version": "3.8.5"
  }
 },
 "nbformat": 4,
 "nbformat_minor": 4
}
