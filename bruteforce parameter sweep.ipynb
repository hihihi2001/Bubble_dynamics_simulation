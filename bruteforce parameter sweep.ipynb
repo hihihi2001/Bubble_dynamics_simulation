{
 "cells": [
  {
   "cell_type": "code",
   "execution_count": 29,
   "metadata": {},
   "outputs": [
    {
     "name": "stdout",
     "output_type": "stream",
     "text": [
      "\u001b[34mNote, lambda value for specie 'H' is not in data.py: 0.0 is used\u001b[0m\n",
      "\u001b[34mNote, lambda value for specie 'O' is not in data.py: 0.0 is used\u001b[0m\n",
      "\u001b[34mNote, lambda value for specie 'OH' is not in data.py: 0.0 is used\u001b[0m\n",
      "\u001b[34mNote, lambda value for specie 'HO2' is not in data.py: 0.0 is used\u001b[0m\n",
      "\u001b[34mNote, lambda value for specie 'OHEX' is not in data.py: 0.0 is used\u001b[0m\n",
      "\u001b[33mWarning, third body 'CO' is not in species in line 65 ('H2/2.5/ O2/1/ H2O/12/ CO/1.9/ CO2/3.8/ HE/0.83/ AR/1/') in reaction '2H+M=H2+M'\u001b[0m\n",
      "\u001b[33mWarning, third body 'CO2' is not in species in line 65 ('H2/2.5/ O2/1/ H2O/12/ CO/1.9/ CO2/3.8/ HE/0.83/ AR/1/') in reaction '2H+M=H2+M'\u001b[0m\n",
      "\u001b[33mWarning, third body 'CO' is not in species in line 67 ('H2/2.5/ H2O/12/ AR/0.83/ CO/1.9/ CO2/3.8/ HE/0.83/') in reaction '2O+M=O2+M'\u001b[0m\n",
      "\u001b[33mWarning, third body 'CO2' is not in species in line 67 ('H2/2.5/ H2O/12/ AR/0.83/ CO/1.9/ CO2/3.8/ HE/0.83/') in reaction '2O+M=O2+M'\u001b[0m\n",
      "\u001b[33mWarning, third body 'CO' is not in species in line 69 ('H2/2.5/ O2/1/ H2O/12/ AR/0.75/ CO/1.5/ CO2/2/ HE/0.75/') in reaction 'O+H+M=OH+M'\u001b[0m\n",
      "\u001b[33mWarning, third body 'CO2' is not in species in line 69 ('H2/2.5/ O2/1/ H2O/12/ AR/0.75/ CO/1.5/ CO2/2/ HE/0.75/') in reaction 'O+H+M=OH+M'\u001b[0m\n",
      "\u001b[33mWarning, third body 'CO' is not in species in line 71 ('H2/2.5/ O2/1/ H2O/12/ AR/0.38/ HE/0.44/ CO/1.9/ CO2/3.8/') in reaction 'H+OH+M=H2O+M'\u001b[0m\n",
      "\u001b[33mWarning, third body 'CO2' is not in species in line 71 ('H2/2.5/ O2/1/ H2O/12/ AR/0.38/ HE/0.44/ CO/1.9/ CO2/3.8/') in reaction 'H+OH+M=H2O+M'\u001b[0m\n",
      "\u001b[33mWarning, third body 'CO' is not in species in line 75 ('H2/1.511/ O2/1.00/ CO/1.9/ CO2/3.8/ HE/0.65/ H2O/11.372/ AR/0.474/') in reaction 'H+O2(+M)=HO2(+M)'\u001b[0m\n",
      "\u001b[33mWarning, third body 'CO2' is not in species in line 75 ('H2/1.511/ O2/1.00/ CO/1.9/ CO2/3.8/ HE/0.65/ H2O/11.372/ AR/0.474/') in reaction 'H+O2(+M)=HO2(+M)'\u001b[0m\n",
      "\u001b[33mWarning, third body 'CO2' is not in species in line 87 ('H2O/5/ CO2/1.07/ AR/0.67/ O2/0.8/ HE/0.43/ H2O2/5.13/ H2/2.47/ CO/1.87/') in reaction '2OH(+M)=H2O2(+M)'\u001b[0m\n",
      "\u001b[33mWarning, third body 'CO' is not in species in line 87 ('H2O/5/ CO2/1.07/ AR/0.67/ O2/0.8/ HE/0.43/ H2O2/5.13/ H2/2.47/ CO/1.87/') in reaction '2OH(+M)=H2O2(+M)'\u001b[0m\n",
      "\u001b[34mNote, pre-exponential factor is modified from units of [cm^3/mol/s] to [cm^3/mol/s]\u001b[0m\n",
      "\u001b[34mNote, activation energy (E_i) is modified from units of [K] to [cal/mol]\u001b[0m\n",
      "\u001b[33mWarning, 'OHEX' in reaction 28 ('OHEX=OH+HV') is not in species, the reaction is ignored\u001b[0m\n",
      "\u001b[33mWarning, 'CO2' in reaction 30 ('OHEX+CO2=OH+CO2') is not in species, the reaction is ignored\u001b[0m\n",
      "\u001b[33mWarning, 'CO2' in reaction 30 ('OHEX+CO2=OH+CO2') is not in species, the reaction is ignored\u001b[0m\n",
      "\u001b[33mWarning, 'CO' in reaction 31 ('OHEX+CO=OH+CO') is not in species, the reaction is ignored\u001b[0m\n",
      "\u001b[33mWarning, 'CO' in reaction 31 ('OHEX+CO=OH+CO') is not in species, the reaction is ignored\u001b[0m\n",
      "model: chemkin_AR_HE\n",
      "File 'parameters.py' succesfully created\n",
      "chemkin_AR_HE\n"
     ]
    }
   ],
   "source": [
    "\"\"\"Create parameters.py from a .inp and load it\"\"\"\n",
    "# This cell is facultative, you can use an existing parameters.py\n",
    "\n",
    "# Directory for .inp file:\n",
    "path = 'F:\\\\OneDrive - Budapesti Műszaki és Gazdaságtudományi Egyetem\\\\TDK\\\\chemkin_AR_HE.inp'\n",
    "\n",
    "# import libraries:\n",
    "import importlib   # for reloading your own files\n",
    "# my own files:\n",
    "import inp_data_extractor as inp\n",
    "importlib.reload(inp)\n",
    "\n",
    "# create parameters.py\n",
    "inp.extract(path)\n",
    "\n",
    "# load parameters.py\n",
    "import parameters as par\n",
    "importlib.reload(par)\n",
    "print(par.model)"
   ]
  },
  {
   "cell_type": "code",
   "execution_count": 30,
   "metadata": {},
   "outputs": [
    {
     "name": "stdout",
     "output_type": "stream",
     "text": [
      "model: chemkin_AR_HE\n"
     ]
    },
    {
     "data": {
      "text/plain": [
       "<module 'full_bubble_model' from 'F:\\\\OneDrive - Budapesti Műszaki és Gazdaságtudományi Egyetem\\\\TDK\\\\Letisztázott programok\\\\full_bubble_model.py'>"
      ]
     },
     "execution_count": 30,
     "metadata": {},
     "output_type": "execute_result"
    }
   ],
   "source": [
    "\"\"\"Libraries\"\"\"\n",
    "\n",
    "# for plotting:\n",
    "%matplotlib inline\n",
    "import matplotlib.pyplot as plt\n",
    "plt.rcParams.update({'font.size': 18})\n",
    "\n",
    "import numpy as np   # matrices, math\n",
    "import time   # runtime measurement\n",
    "from multiprocessing import Pool, cpu_count   # multithreading\n",
    "import importlib   # reload changes you made\n",
    "\n",
    "# my own file:\n",
    "import full_bubble_model as de    # full bubble model\n",
    "importlib.reload(de)   # reload changes you made"
   ]
  },
  {
   "cell_type": "code",
   "execution_count": 49,
   "metadata": {},
   "outputs": [
    {
     "name": "stdout",
     "output_type": "stream",
     "text": [
      "R_E: 10\n",
      "ratio: 10\n",
      "P_inf: 4\n",
      "alfa_M: 1\n",
      "T_inf: 1\n",
      "surfactant: 1\n",
      "total combinations: 400\n"
     ]
    }
   ],
   "source": [
    "\"\"\"Control parameter ranges and division\"\"\"\n",
    "# a list for each control parameter, containing all the possible values\n",
    "\n",
    "ranges = de.dotdict(dict(\n",
    "    # Equilibrium radius [um --> m]\n",
    "    R_E = [1e-6*x for x in [1.0, 2.0, 3.0, 4.0, 5.0, 7.5, 10.0, 15.0, 20.0, 25.0]],\n",
    "    # R_star / R_E [-]\n",
    "    ratio = [2.0, 3.0, 5.0, 10.0, 15.0, 20.0, 25.0, 30.0, 40.0, 50.0],\n",
    "    # Ambient pressure [Pa]\n",
    "    P_inf = [1e5*x for x in [1.0, 10.0, 25.0, 50.0]],\n",
    "    # Accommodation coeff. for evaporation [-]\n",
    "    alfa_M = [0.05],\n",
    "    # Ambient temperature [°C --> K]\n",
    "    T_inf = [273.15+x for x in [30.0]],\n",
    "    # Surface tension modifier [-]\n",
    "    surfactant = [1.0]\n",
    "))\n",
    "\n",
    "# print total combinations:\n",
    "for key in ranges:\n",
    "    print(f'{key}: {len(ranges[key])}')\n",
    "print(f'total combinations: {np.prod([len(ranges[key]) for key in ranges])}')"
   ]
  },
  {
   "cell_type": "code",
   "execution_count": 50,
   "metadata": {},
   "outputs": [],
   "source": [
    "\"\"\"Get all combinations\"\"\"\n",
    "# Make a list, with one dictionary for eachy parameter combinations\n",
    "\n",
    "cpars = []\n",
    "ID = 1\n",
    "for R_E in ranges.R_E:\n",
    "    for ratio in ranges.ratio:\n",
    "        for P_inf in ranges.P_inf:\n",
    "            for alfa_M in ranges.alfa_M:\n",
    "                for T_inf in ranges.T_inf:\n",
    "                    for surfactant in ranges.surfactant:\n",
    "                        cpar = dict(\n",
    "                            ID=ID,\n",
    "                            R_E=R_E, # [m]\n",
    "                            ratio=ratio, # [-]\n",
    "                            P_inf=P_inf, # [Pa]\n",
    "                            alfa_M=alfa_M, # [-]\n",
    "                            T_inf=T_inf, # [m]\n",
    "                            surfactant=surfactant, # [-]\n",
    "                            gases=[de.par.index['AR'], de.par.index['HE']], # indexes of species in initial bubble\n",
    "                            fractions=[1.0, 0.0] # molar fractions of species in initial bubble\n",
    "                        )\n",
    "                        cpar['P_v'] = de.VapourPressure(cpar['T_inf']) # [Pa]\n",
    "                        cpar['mu_L'] = de.Viscosity(cpar['T_inf']) # [Pa*s]\n",
    "                        cpars.append(cpar)\n",
    "                        ID += 1\n",
    "                        \n",
    "# Create input dictionary for de.simulate(), a list of dictionaries with cpar and other arguments\n",
    "kwargs_list = [dict(cpar=cpar, t_int=np.array([0.0, 1.0]), LSODA_timeout=300, Radau_timeout=30) for cpar in cpars]"
   ]
  },
  {
   "cell_type": "code",
   "execution_count": 51,
   "metadata": {},
   "outputs": [
    {
     "name": "stdout",
     "output_type": "stream",
     "text": [
      "Folder already exists with 0 csv in it\n",
      "index: 372/400,   error_code: 2,   steps: 14276,   runtime:  310.11 [s]   |   R_E= 25.00 [um]; ratio= 5.00 [-]; P_inf= 50.00 [bar]; alfa_M= 0.05 [-]; T_inf= 30.00 [°C]; surfactant= 100 [%]   |   hydrogen production:  84012.5 [MJ/kg] (best:  10327.4 [MJ/kg])                                                                                              \n",
      "\n",
      "DONE\n",
      "total time:  0 hours  9 mins\n",
      "             531.73 [s]   ( 1.33 [s/run])\n"
     ]
    }
   ],
   "source": [
    "\"\"\"Parameter study, multithread\"\"\"\n",
    "# Runs each combinations in cpars, and saves the results into CSV files\n",
    "# use Pool(processes=cpu_count()-1) to limit number of threads being used.\n",
    "# use pool.imap(...) instead of pool.imap_unordered(...) to preserve order in which cpars was made\n",
    "\n",
    "max_lines = 100    # maximum length of a CSV\n",
    "best_energy = 1e30\n",
    "\n",
    "start = time.time()\n",
    "file = de.Make_dir('test 1')\n",
    "file.new_file()\n",
    "with Pool(processes=cpu_count(), maxtasksperchild=100) as pool:\n",
    "    results = pool.imap_unordered(de.simulate, kwargs_list)\n",
    "\n",
    "    for data in results:\n",
    "      # save results:\n",
    "        if file.lines > max_lines:\n",
    "            file.close()\n",
    "            file.new_file()\n",
    "        data = de.dotdict(data)\n",
    "        file.write_line(data)\n",
    "      # print stuff:\n",
    "        if data.energy>0 and data.energy<best_energy:\n",
    "            best_energy = data.energy\n",
    "        print(f'index: {data.ID}/{len(cpars)},   error_code: {data.error_code},   steps: {data.steps},   runtime: {data.elapsed_time: .2f} [s]   |   '+\n",
    "              f'R_E={1e6*data.R_E: .2f} [um]; ratio={data.ratio: .2f} [-]; P_inf={1e-5*data.P_inf: .2f} [bar]; alfa_M={data.alfa_M: .2f} [-]; '+\n",
    "              f'T_inf={data.T_inf-273.15: .2f} [°C]; surfactant={100*data.surfactant: .0f} [%]   |   hydrogen production: {data.energy: .1f} [MJ/kg] '+\n",
    "              f'(best: {best_energy: .1f} [MJ/kg])                                                 ', end='\\r')\n",
    "            \n",
    "file.close()\n",
    "end = time.time()\n",
    "elapsed = end - start\n",
    "print(f'\\n\\nDONE')\n",
    "print(f'total time: {(elapsed / 3600): .0f} hours {((elapsed % 3600) / 60): .0f} mins')\n",
    "print(f'            {elapsed: .2f} [s]   ({(elapsed / len(cpars)): .2f} [s/run])')"
   ]
  },
  {
   "cell_type": "code",
   "execution_count": null,
   "metadata": {},
   "outputs": [],
   "source": []
  }
 ],
 "metadata": {
  "kernelspec": {
   "display_name": "Python 3",
   "language": "python",
   "name": "python3"
  },
  "language_info": {
   "codemirror_mode": {
    "name": "ipython",
    "version": 3
   },
   "file_extension": ".py",
   "mimetype": "text/x-python",
   "name": "python",
   "nbconvert_exporter": "python",
   "pygments_lexer": "ipython3",
   "version": "3.8.5"
  }
 },
 "nbformat": 4,
 "nbformat_minor": 4
}
